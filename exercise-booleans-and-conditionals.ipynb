{
 "cells": [
  {
   "cell_type": "markdown",
   "id": "7fa4a4cd",
   "metadata": {
    "papermill": {
     "duration": 0.007652,
     "end_time": "2025-06-29T07:07:08.298085",
     "exception": false,
     "start_time": "2025-06-29T07:07:08.290433",
     "status": "completed"
    },
    "tags": []
   },
   "source": [
    "**This notebook is an exercise in the [Python](https://www.kaggle.com/learn/python) course.  You can reference the tutorial at [this link](https://www.kaggle.com/colinmorris/booleans-and-conditionals).**\n",
    "\n",
    "---\n"
   ]
  },
  {
   "cell_type": "markdown",
   "id": "422d2f0e",
   "metadata": {
    "papermill": {
     "duration": 0.005675,
     "end_time": "2025-06-29T07:07:08.309982",
     "exception": false,
     "start_time": "2025-06-29T07:07:08.304307",
     "status": "completed"
    },
    "tags": []
   },
   "source": [
    "In this exercise, you'll put to work what you have learned about booleans and conditionals.\n",
    "\n",
    "To get started, **run the setup code below** before writing your own code (and if you leave this notebook and come back later, don't forget to run the setup code again)."
   ]
  },
  {
   "cell_type": "code",
   "execution_count": 1,
   "id": "0ecb4169",
   "metadata": {
    "execution": {
     "iopub.execute_input": "2025-06-29T07:07:08.323290Z",
     "iopub.status.busy": "2025-06-29T07:07:08.322957Z",
     "iopub.status.idle": "2025-06-29T07:07:10.179198Z",
     "shell.execute_reply": "2025-06-29T07:07:10.178121Z"
    },
    "papermill": {
     "duration": 1.864786,
     "end_time": "2025-06-29T07:07:10.180919",
     "exception": false,
     "start_time": "2025-06-29T07:07:08.316133",
     "status": "completed"
    },
    "tags": []
   },
   "outputs": [
    {
     "name": "stdout",
     "output_type": "stream",
     "text": [
      "Setup complete.\n"
     ]
    }
   ],
   "source": [
    "from learntools.core import binder; binder.bind(globals())\n",
    "from learntools.python.ex3 import *\n",
    "print('Setup complete.')"
   ]
  },
  {
   "cell_type": "markdown",
   "id": "3946a58b",
   "metadata": {
    "papermill": {
     "duration": 0.005793,
     "end_time": "2025-06-29T07:07:10.193183",
     "exception": false,
     "start_time": "2025-06-29T07:07:10.187390",
     "status": "completed"
    },
    "tags": []
   },
   "source": [
    "# 1.\n",
    "\n",
    "Many programming languages have [`sign`](https://en.wikipedia.org/wiki/Sign_function) available as a built-in function. Python doesn't, but we can define our own!\n",
    "\n",
    "In the cell below, define a function called `sign` which takes a numerical argument and returns -1 if it's negative, 1 if it's positive, and 0 if it's 0."
   ]
  },
  {
   "cell_type": "code",
   "execution_count": 2,
   "id": "ac4c9156",
   "metadata": {
    "execution": {
     "iopub.execute_input": "2025-06-29T07:07:10.206644Z",
     "iopub.status.busy": "2025-06-29T07:07:10.206184Z",
     "iopub.status.idle": "2025-06-29T07:07:10.215023Z",
     "shell.execute_reply": "2025-06-29T07:07:10.214207Z"
    },
    "papermill": {
     "duration": 0.017061,
     "end_time": "2025-06-29T07:07:10.216331",
     "exception": false,
     "start_time": "2025-06-29T07:07:10.199270",
     "status": "completed"
    },
    "tags": []
   },
   "outputs": [
    {
     "data": {
      "application/javascript": [
       "parent.postMessage({\"jupyterEvent\": \"custom.exercise_interaction\", \"data\": {\"outcomeType\": 1, \"valueTowardsCompletion\": 0.2, \"interactionType\": 1, \"questionType\": 2, \"questionId\": \"1_SignFunctionProblem\", \"learnToolsVersion\": \"0.3.5\", \"failureMessage\": \"\", \"exceptionClass\": \"\", \"trace\": \"\"}}, \"*\")"
      ],
      "text/plain": [
       "<IPython.core.display.Javascript object>"
      ]
     },
     "metadata": {},
     "output_type": "display_data"
    },
    {
     "data": {
      "text/markdown": [
       "<span style=\"color:#33cc33\">Correct</span>"
      ],
      "text/plain": [
       "Correct"
      ]
     },
     "metadata": {},
     "output_type": "display_data"
    }
   ],
   "source": [
    "# Your code goes here. Define a function called 'sign'\n",
    "def sign(num):\n",
    "    if num == 0:\n",
    "        return 0\n",
    "    elif num > 0:\n",
    "        return 1\n",
    "    elif num < 0:\n",
    "        return -1\n",
    "# Check your answer\n",
    "q1.check()"
   ]
  },
  {
   "cell_type": "code",
   "execution_count": 3,
   "id": "ece15ac5",
   "metadata": {
    "execution": {
     "iopub.execute_input": "2025-06-29T07:07:10.230295Z",
     "iopub.status.busy": "2025-06-29T07:07:10.229524Z",
     "iopub.status.idle": "2025-06-29T07:07:10.236160Z",
     "shell.execute_reply": "2025-06-29T07:07:10.235505Z"
    },
    "papermill": {
     "duration": 0.014837,
     "end_time": "2025-06-29T07:07:10.237456",
     "exception": false,
     "start_time": "2025-06-29T07:07:10.222619",
     "status": "completed"
    },
    "tags": []
   },
   "outputs": [
    {
     "data": {
      "application/javascript": [
       "parent.postMessage({\"jupyterEvent\": \"custom.exercise_interaction\", \"data\": {\"interactionType\": 3, \"questionType\": 2, \"questionId\": \"1_SignFunctionProblem\", \"learnToolsVersion\": \"0.3.5\", \"valueTowardsCompletion\": 0.0, \"failureMessage\": \"\", \"exceptionClass\": \"\", \"trace\": \"\", \"outcomeType\": 4}}, \"*\")"
      ],
      "text/plain": [
       "<IPython.core.display.Javascript object>"
      ]
     },
     "metadata": {},
     "output_type": "display_data"
    },
    {
     "data": {
      "text/markdown": [
       "<span style=\"color:#33cc99\">Solution:</span> \n",
       "```python\n",
       "def sign(x):\n",
       "    if x > 0:\n",
       "        return 1\n",
       "    elif x < 0:\n",
       "        return -1\n",
       "    else:\n",
       "        return 0\n",
       "```"
      ],
      "text/plain": [
       "Solution: \n",
       "```python\n",
       "def sign(x):\n",
       "    if x > 0:\n",
       "        return 1\n",
       "    elif x < 0:\n",
       "        return -1\n",
       "    else:\n",
       "        return 0\n",
       "```"
      ]
     },
     "metadata": {},
     "output_type": "display_data"
    }
   ],
   "source": [
    "q1.solution()"
   ]
  },
  {
   "cell_type": "markdown",
   "id": "8b11698e",
   "metadata": {
    "papermill": {
     "duration": 0.006129,
     "end_time": "2025-06-29T07:07:10.249908",
     "exception": false,
     "start_time": "2025-06-29T07:07:10.243779",
     "status": "completed"
    },
    "tags": []
   },
   "source": [
    "# 2.\n",
    "\n",
    "We've decided to add \"logging\" to our `to_smash` function from the previous exercise."
   ]
  },
  {
   "cell_type": "code",
   "execution_count": 4,
   "id": "76d2c7a7",
   "metadata": {
    "execution": {
     "iopub.execute_input": "2025-06-29T07:07:10.263639Z",
     "iopub.status.busy": "2025-06-29T07:07:10.263272Z",
     "iopub.status.idle": "2025-06-29T07:07:10.270279Z",
     "shell.execute_reply": "2025-06-29T07:07:10.269423Z"
    },
    "papermill": {
     "duration": 0.01558,
     "end_time": "2025-06-29T07:07:10.271747",
     "exception": false,
     "start_time": "2025-06-29T07:07:10.256167",
     "status": "completed"
    },
    "tags": []
   },
   "outputs": [
    {
     "name": "stdout",
     "output_type": "stream",
     "text": [
      "Splitting 91 candies\n"
     ]
    },
    {
     "data": {
      "text/plain": [
       "1"
      ]
     },
     "execution_count": 4,
     "metadata": {},
     "output_type": "execute_result"
    }
   ],
   "source": [
    "def to_smash(total_candies):\n",
    "    \"\"\"Return the number of leftover candies that must be smashed after distributing\n",
    "    the given number of candies evenly between 3 friends.\n",
    "    \n",
    "    >>> to_smash(91)\n",
    "    1\n",
    "    \"\"\"\n",
    "    print(\"Splitting\", total_candies, \"candies\")\n",
    "    return total_candies % 3\n",
    "\n",
    "to_smash(91)"
   ]
  },
  {
   "cell_type": "markdown",
   "id": "bd94ae70",
   "metadata": {
    "papermill": {
     "duration": 0.006243,
     "end_time": "2025-06-29T07:07:10.285046",
     "exception": false,
     "start_time": "2025-06-29T07:07:10.278803",
     "status": "completed"
    },
    "tags": []
   },
   "source": [
    "What happens if we call it with `total_candies = 1`?"
   ]
  },
  {
   "cell_type": "code",
   "execution_count": 5,
   "id": "bb2c61b8",
   "metadata": {
    "execution": {
     "iopub.execute_input": "2025-06-29T07:07:10.299386Z",
     "iopub.status.busy": "2025-06-29T07:07:10.299027Z",
     "iopub.status.idle": "2025-06-29T07:07:10.304995Z",
     "shell.execute_reply": "2025-06-29T07:07:10.304263Z"
    },
    "papermill": {
     "duration": 0.014752,
     "end_time": "2025-06-29T07:07:10.306371",
     "exception": false,
     "start_time": "2025-06-29T07:07:10.291619",
     "status": "completed"
    },
    "tags": []
   },
   "outputs": [
    {
     "name": "stdout",
     "output_type": "stream",
     "text": [
      "Splitting 1 candies\n"
     ]
    },
    {
     "data": {
      "text/plain": [
       "1"
      ]
     },
     "execution_count": 5,
     "metadata": {},
     "output_type": "execute_result"
    }
   ],
   "source": [
    "to_smash(1)"
   ]
  },
  {
   "cell_type": "markdown",
   "id": "4c221888",
   "metadata": {
    "papermill": {
     "duration": 0.006306,
     "end_time": "2025-06-29T07:07:10.319397",
     "exception": false,
     "start_time": "2025-06-29T07:07:10.313091",
     "status": "completed"
    },
    "tags": []
   },
   "source": [
    "That isn't great grammar!\n",
    "\n",
    "Modify the definition in the cell below to correct the grammar of our print statement. (If there's only one candy, we should use the singular \"candy\" instead of the plural \"candies\")"
   ]
  },
  {
   "cell_type": "code",
   "execution_count": 6,
   "id": "4cbb9ef2",
   "metadata": {
    "execution": {
     "iopub.execute_input": "2025-06-29T07:07:10.333648Z",
     "iopub.status.busy": "2025-06-29T07:07:10.333370Z",
     "iopub.status.idle": "2025-06-29T07:07:10.340404Z",
     "shell.execute_reply": "2025-06-29T07:07:10.339206Z"
    },
    "papermill": {
     "duration": 0.015824,
     "end_time": "2025-06-29T07:07:10.341756",
     "exception": false,
     "start_time": "2025-06-29T07:07:10.325932",
     "status": "completed"
    },
    "tags": []
   },
   "outputs": [
    {
     "name": "stdout",
     "output_type": "stream",
     "text": [
      "Splitting 91 candies\n",
      "Splitting 1 candy\n"
     ]
    },
    {
     "data": {
      "text/plain": [
       "1"
      ]
     },
     "execution_count": 6,
     "metadata": {},
     "output_type": "execute_result"
    }
   ],
   "source": [
    "def to_smash(total_candies):\n",
    "    \"\"\"Return the number of leftover candies that must be smashed after distributing\n",
    "    the given number of candies evenly between 3 friends.\n",
    "    \n",
    "    >>> to_smash(91)\n",
    "    1\n",
    "    \"\"\"\n",
    "    if total_candies <= 1:\n",
    "        print(\"Splitting\", total_candies, \"candy\")\n",
    "    else:\n",
    "        print(\"Splitting\", total_candies, \"candies\")\n",
    "    \n",
    "    return total_candies % 3\n",
    "\n",
    "to_smash(91)\n",
    "to_smash(1)"
   ]
  },
  {
   "cell_type": "markdown",
   "id": "fbd291d8",
   "metadata": {
    "papermill": {
     "duration": 0.006271,
     "end_time": "2025-06-29T07:07:10.354891",
     "exception": false,
     "start_time": "2025-06-29T07:07:10.348620",
     "status": "completed"
    },
    "tags": []
   },
   "source": [
    "To get credit for completing this problem, and to see the official answer, run the code cell below."
   ]
  },
  {
   "cell_type": "code",
   "execution_count": 7,
   "id": "36750dbf",
   "metadata": {
    "execution": {
     "iopub.execute_input": "2025-06-29T07:07:10.369645Z",
     "iopub.status.busy": "2025-06-29T07:07:10.368867Z",
     "iopub.status.idle": "2025-06-29T07:07:10.375756Z",
     "shell.execute_reply": "2025-06-29T07:07:10.374950Z"
    },
    "papermill": {
     "duration": 0.015549,
     "end_time": "2025-06-29T07:07:10.377098",
     "exception": false,
     "start_time": "2025-06-29T07:07:10.361549",
     "status": "completed"
    },
    "tags": []
   },
   "outputs": [
    {
     "data": {
      "application/javascript": [
       "parent.postMessage({\"jupyterEvent\": \"custom.exercise_interaction\", \"data\": {\"interactionType\": 3, \"questionType\": 4, \"questionId\": \"2_PluralizationProblem\", \"learnToolsVersion\": \"0.3.5\", \"valueTowardsCompletion\": 0.0, \"failureMessage\": \"\", \"exceptionClass\": \"\", \"trace\": \"\", \"outcomeType\": 4}}, \"*\")"
      ],
      "text/plain": [
       "<IPython.core.display.Javascript object>"
      ]
     },
     "metadata": {},
     "output_type": "display_data"
    },
    {
     "data": {
      "text/markdown": [
       "<span style=\"color:#33cc99\">Solution:</span> A straightforward (and totally fine) solution is to replace the original `print` call with:\n",
       "\n",
       "```python\n",
       "if total_candies == 1:\n",
       "    print(\"Splitting 1 candy\")\n",
       "else:\n",
       "    print(\"Splitting\", total_candies, \"candies\")\n",
       "```\n",
       "\n",
       "Here's a slightly more succinct solution using a conditional expression:\n",
       "\n",
       "```python\n",
       "print(\"Splitting\", total_candies, \"candy\" if total_candies == 1 else \"candies\")\n",
       "```"
      ],
      "text/plain": [
       "Solution: A straightforward (and totally fine) solution is to replace the original `print` call with:\n",
       "\n",
       "```python\n",
       "if total_candies == 1:\n",
       "    print(\"Splitting 1 candy\")\n",
       "else:\n",
       "    print(\"Splitting\", total_candies, \"candies\")\n",
       "```\n",
       "\n",
       "Here's a slightly more succinct solution using a conditional expression:\n",
       "\n",
       "```python\n",
       "print(\"Splitting\", total_candies, \"candy\" if total_candies == 1 else \"candies\")\n",
       "```"
      ]
     },
     "metadata": {},
     "output_type": "display_data"
    }
   ],
   "source": [
    "# Check your answer (Run this code cell to receive credit!)\n",
    "q2.solution()"
   ]
  },
  {
   "cell_type": "markdown",
   "id": "30e92a2a",
   "metadata": {
    "papermill": {
     "duration": 0.006801,
     "end_time": "2025-06-29T07:07:10.391086",
     "exception": false,
     "start_time": "2025-06-29T07:07:10.384285",
     "status": "completed"
    },
    "tags": []
   },
   "source": [
    "# 3. <span title=\"A bit spicy\" style=\"color: darkgreen \">🌶️</span>\n",
    "\n",
    "In the tutorial, we talked about deciding whether we're prepared for the weather. I said that I'm safe from today's weather if...\n",
    "- I have an umbrella...\n",
    "- or if the rain isn't too heavy and I have a hood...\n",
    "- otherwise, I'm still fine unless it's raining *and* it's a workday\n",
    "\n",
    "The function below uses our first attempt at turning this logic into a Python expression. I claimed that there was a bug in that code. Can you find it?\n",
    "\n",
    "To prove that `prepared_for_weather` is buggy, come up with a set of inputs where either:\n",
    "- the function returns `False` (but should have returned `True`), or\n",
    "- the function returned `True` (but should have returned `False`).\n",
    "\n",
    "To get credit for completing this question, your code should return a <font color='#33cc33'>Correct</font> result."
   ]
  },
  {
   "cell_type": "code",
   "execution_count": 8,
   "id": "cba9fba3",
   "metadata": {
    "execution": {
     "iopub.execute_input": "2025-06-29T07:07:10.406581Z",
     "iopub.status.busy": "2025-06-29T07:07:10.406239Z",
     "iopub.status.idle": "2025-06-29T07:07:10.415053Z",
     "shell.execute_reply": "2025-06-29T07:07:10.414224Z"
    },
    "papermill": {
     "duration": 0.018195,
     "end_time": "2025-06-29T07:07:10.416512",
     "exception": false,
     "start_time": "2025-06-29T07:07:10.398317",
     "status": "completed"
    },
    "tags": []
   },
   "outputs": [
    {
     "name": "stdout",
     "output_type": "stream",
     "text": [
      "False\n"
     ]
    },
    {
     "data": {
      "application/javascript": [
       "parent.postMessage({\"jupyterEvent\": \"custom.exercise_interaction\", \"data\": {\"outcomeType\": 1, \"valueTowardsCompletion\": 0.2, \"interactionType\": 1, \"questionType\": 1, \"questionId\": \"3_WeatherDebug\", \"learnToolsVersion\": \"0.3.5\", \"failureMessage\": \"\", \"exceptionClass\": \"\", \"trace\": \"\"}}, \"*\")"
      ],
      "text/plain": [
       "<IPython.core.display.Javascript object>"
      ]
     },
     "metadata": {},
     "output_type": "display_data"
    },
    {
     "data": {
      "text/markdown": [
       "<span style=\"color:#33cc33\">Correct:</span> \n",
       "\n",
       "One example of a failing test case is:\n",
       "\n",
       "```python\n",
       "have_umbrella = False\n",
       "rain_level = 0.0\n",
       "have_hood = False\n",
       "is_workday = False\n",
       "```\n",
       "\n",
       "Clearly we're prepared for the weather in this case. It's not raining. Not only that, it's not a workday, so we don't even need to leave the house! But our function will return False on these inputs.\n",
       "\n",
       "The key problem is that Python implictly parenthesizes the last part as:\n",
       "\n",
       "```python\n",
       "(not (rain_level > 0)) and is_workday\n",
       "```\n",
       "\n",
       "Whereas what we were trying to express would look more like:\n",
       "\n",
       "```python\n",
       "not (rain_level > 0 and is_workday)\n",
       "```\n"
      ],
      "text/plain": [
       "Correct: \n",
       "\n",
       "One example of a failing test case is:\n",
       "\n",
       "```python\n",
       "have_umbrella = False\n",
       "rain_level = 0.0\n",
       "have_hood = False\n",
       "is_workday = False\n",
       "```\n",
       "\n",
       "Clearly we're prepared for the weather in this case. It's not raining. Not only that, it's not a workday, so we don't even need to leave the house! But our function will return False on these inputs.\n",
       "\n",
       "The key problem is that Python implictly parenthesizes the last part as:\n",
       "\n",
       "```python\n",
       "(not (rain_level > 0)) and is_workday\n",
       "```\n",
       "\n",
       "Whereas what we were trying to express would look more like:\n",
       "\n",
       "```python\n",
       "not (rain_level > 0 and is_workday)\n",
       "```"
      ]
     },
     "metadata": {},
     "output_type": "display_data"
    }
   ],
   "source": [
    "def prepared_for_weather(have_umbrella, rain_level, have_hood, is_workday):\n",
    "    # Don't change this code. Our goal is just to find the bug, not fix it!\n",
    "    return have_umbrella or rain_level < 5 and have_hood or not rain_level > 0 and is_workday\n",
    "\n",
    "# Change the values of these inputs so they represent a case where prepared_for_weather\n",
    "# returns the wrong answer.\n",
    "have_umbrella = False\n",
    "rain_level = 0\n",
    "have_hood = False\n",
    "is_workday = False\n",
    "\n",
    "# Check what the function returns given the current values of the variables above\n",
    "actual = prepared_for_weather(have_umbrella, rain_level, have_hood, is_workday)\n",
    "print(actual)\n",
    "\n",
    "# Check your answer\n",
    "q3.check()"
   ]
  },
  {
   "cell_type": "code",
   "execution_count": 9,
   "id": "1e5c85e5",
   "metadata": {
    "execution": {
     "iopub.execute_input": "2025-06-29T07:07:10.432309Z",
     "iopub.status.busy": "2025-06-29T07:07:10.431980Z",
     "iopub.status.idle": "2025-06-29T07:07:10.436097Z",
     "shell.execute_reply": "2025-06-29T07:07:10.435242Z"
    },
    "papermill": {
     "duration": 0.013395,
     "end_time": "2025-06-29T07:07:10.437506",
     "exception": false,
     "start_time": "2025-06-29T07:07:10.424111",
     "status": "completed"
    },
    "tags": []
   },
   "outputs": [],
   "source": [
    "#q3.hint()\n",
    "#q3.solution()"
   ]
  },
  {
   "cell_type": "markdown",
   "id": "ad2db5ed",
   "metadata": {
    "papermill": {
     "duration": 0.007038,
     "end_time": "2025-06-29T07:07:10.451812",
     "exception": false,
     "start_time": "2025-06-29T07:07:10.444774",
     "status": "completed"
    },
    "tags": []
   },
   "source": [
    "# 4.\n",
    "\n",
    "The function `is_negative` below is implemented correctly - it returns True if the given number is negative and False otherwise.\n",
    "\n",
    "However, it's more verbose than it needs to be. We can actually reduce the number of lines of code in this function by *75%* while keeping the same behaviour. \n",
    "\n",
    "See if you can come up with an equivalent body that uses just **one line** of code, and put it in the function `concise_is_negative`. (HINT: you don't even need Python's ternary syntax)"
   ]
  },
  {
   "cell_type": "code",
   "execution_count": 10,
   "id": "3b8b6690",
   "metadata": {
    "execution": {
     "iopub.execute_input": "2025-06-29T07:07:10.467962Z",
     "iopub.status.busy": "2025-06-29T07:07:10.467556Z",
     "iopub.status.idle": "2025-06-29T07:07:10.475693Z",
     "shell.execute_reply": "2025-06-29T07:07:10.474898Z"
    },
    "papermill": {
     "duration": 0.017817,
     "end_time": "2025-06-29T07:07:10.476892",
     "exception": false,
     "start_time": "2025-06-29T07:07:10.459075",
     "status": "completed"
    },
    "tags": []
   },
   "outputs": [
    {
     "data": {
      "application/javascript": [
       "parent.postMessage({\"jupyterEvent\": \"custom.exercise_interaction\", \"data\": {\"outcomeType\": 1, \"valueTowardsCompletion\": 0.2, \"interactionType\": 1, \"questionType\": 2, \"questionId\": \"4_ConciseIsNegative\", \"learnToolsVersion\": \"0.3.5\", \"failureMessage\": \"\", \"exceptionClass\": \"\", \"trace\": \"\"}}, \"*\")"
      ],
      "text/plain": [
       "<IPython.core.display.Javascript object>"
      ]
     },
     "metadata": {},
     "output_type": "display_data"
    },
    {
     "data": {
      "text/markdown": [
       "<span style=\"color:#33cc33\">Correct</span>"
      ],
      "text/plain": [
       "Correct"
      ]
     },
     "metadata": {},
     "output_type": "display_data"
    }
   ],
   "source": [
    "def is_negative(number):\n",
    "    if number < 0:\n",
    "        return True\n",
    "    else:\n",
    "        return False\n",
    "\n",
    "def concise_is_negative(number):\n",
    "    pass # Your code goes here (try to keep it to one line!)\n",
    "    return True if number < 0 else False\n",
    "\n",
    "# Check your answer\n",
    "q4.check()"
   ]
  },
  {
   "cell_type": "code",
   "execution_count": 11,
   "id": "b5d91025",
   "metadata": {
    "execution": {
     "iopub.execute_input": "2025-06-29T07:07:10.493226Z",
     "iopub.status.busy": "2025-06-29T07:07:10.492938Z",
     "iopub.status.idle": "2025-06-29T07:07:10.499214Z",
     "shell.execute_reply": "2025-06-29T07:07:10.498513Z"
    },
    "papermill": {
     "duration": 0.015887,
     "end_time": "2025-06-29T07:07:10.500440",
     "exception": false,
     "start_time": "2025-06-29T07:07:10.484553",
     "status": "completed"
    },
    "tags": []
   },
   "outputs": [
    {
     "data": {
      "application/javascript": [
       "parent.postMessage({\"jupyterEvent\": \"custom.exercise_interaction\", \"data\": {\"interactionType\": 3, \"questionType\": 2, \"questionId\": \"4_ConciseIsNegative\", \"learnToolsVersion\": \"0.3.5\", \"valueTowardsCompletion\": 0.0, \"failureMessage\": \"\", \"exceptionClass\": \"\", \"trace\": \"\", \"outcomeType\": 4}}, \"*\")"
      ],
      "text/plain": [
       "<IPython.core.display.Javascript object>"
      ]
     },
     "metadata": {},
     "output_type": "display_data"
    },
    {
     "data": {
      "text/markdown": [
       "<span style=\"color:#33cc99\">Solution:</span> \n",
       "```python\n",
       "return number < 0\n",
       "```"
      ],
      "text/plain": [
       "Solution: \n",
       "```python\n",
       "return number < 0\n",
       "```"
      ]
     },
     "metadata": {},
     "output_type": "display_data"
    }
   ],
   "source": [
    "#q4.hint()\n",
    "q4.solution()"
   ]
  },
  {
   "cell_type": "markdown",
   "id": "9afeb57f",
   "metadata": {
    "papermill": {
     "duration": 0.00775,
     "end_time": "2025-06-29T07:07:10.516619",
     "exception": false,
     "start_time": "2025-06-29T07:07:10.508869",
     "status": "completed"
    },
    "tags": []
   },
   "source": [
    "# 5a.\n",
    "\n",
    "The boolean variables `ketchup`, `mustard` and `onion` represent whether a customer wants a particular topping on their hot dog. We want to implement a number of boolean functions that correspond to some yes-or-no questions about the customer's order. For example:"
   ]
  },
  {
   "cell_type": "code",
   "execution_count": 12,
   "id": "255078a6",
   "metadata": {
    "execution": {
     "iopub.execute_input": "2025-06-29T07:07:10.535734Z",
     "iopub.status.busy": "2025-06-29T07:07:10.535404Z",
     "iopub.status.idle": "2025-06-29T07:07:10.540241Z",
     "shell.execute_reply": "2025-06-29T07:07:10.539071Z"
    },
    "papermill": {
     "duration": 0.016551,
     "end_time": "2025-06-29T07:07:10.541757",
     "exception": false,
     "start_time": "2025-06-29T07:07:10.525206",
     "status": "completed"
    },
    "tags": []
   },
   "outputs": [],
   "source": [
    "def onionless(ketchup, mustard, onion):\n",
    "    \"\"\"Return whether the customer doesn't want onions.\n",
    "    \"\"\"\n",
    "    return not onion"
   ]
  },
  {
   "cell_type": "code",
   "execution_count": 13,
   "id": "eb92ad27",
   "metadata": {
    "execution": {
     "iopub.execute_input": "2025-06-29T07:07:10.558907Z",
     "iopub.status.busy": "2025-06-29T07:07:10.558556Z",
     "iopub.status.idle": "2025-06-29T07:07:10.566338Z",
     "shell.execute_reply": "2025-06-29T07:07:10.565596Z"
    },
    "papermill": {
     "duration": 0.017916,
     "end_time": "2025-06-29T07:07:10.567642",
     "exception": false,
     "start_time": "2025-06-29T07:07:10.549726",
     "status": "completed"
    },
    "tags": []
   },
   "outputs": [
    {
     "data": {
      "application/javascript": [
       "parent.postMessage({\"jupyterEvent\": \"custom.exercise_interaction\", \"data\": {\"outcomeType\": 1, \"valueTowardsCompletion\": 0.2, \"interactionType\": 1, \"questionType\": 2, \"questionId\": \"5.1_AllToppings\", \"learnToolsVersion\": \"0.3.5\", \"failureMessage\": \"\", \"exceptionClass\": \"\", \"trace\": \"\"}}, \"*\")"
      ],
      "text/plain": [
       "<IPython.core.display.Javascript object>"
      ]
     },
     "metadata": {},
     "output_type": "display_data"
    },
    {
     "data": {
      "text/markdown": [
       "<span style=\"color:#33cc33\">Correct</span>"
      ],
      "text/plain": [
       "Correct"
      ]
     },
     "metadata": {},
     "output_type": "display_data"
    }
   ],
   "source": [
    "def wants_all_toppings(ketchup, mustard, onion):\n",
    "    \"\"\"Return whether the customer wants \"the works\" (all 3 toppings)\n",
    "    \"\"\"\n",
    "    pass\n",
    "    return ketchup and mustard and onion\n",
    "\n",
    "# Check your answer\n",
    "q5.a.check()"
   ]
  },
  {
   "cell_type": "code",
   "execution_count": 14,
   "id": "86db8717",
   "metadata": {
    "execution": {
     "iopub.execute_input": "2025-06-29T07:07:10.584546Z",
     "iopub.status.busy": "2025-06-29T07:07:10.584214Z",
     "iopub.status.idle": "2025-06-29T07:07:10.590822Z",
     "shell.execute_reply": "2025-06-29T07:07:10.590136Z"
    },
    "papermill": {
     "duration": 0.016277,
     "end_time": "2025-06-29T07:07:10.591976",
     "exception": false,
     "start_time": "2025-06-29T07:07:10.575699",
     "status": "completed"
    },
    "tags": []
   },
   "outputs": [
    {
     "data": {
      "application/javascript": [
       "parent.postMessage({\"jupyterEvent\": \"custom.exercise_interaction\", \"data\": {\"interactionType\": 3, \"questionType\": 2, \"questionId\": \"5.1_AllToppings\", \"learnToolsVersion\": \"0.3.5\", \"valueTowardsCompletion\": 0.0, \"failureMessage\": \"\", \"exceptionClass\": \"\", \"trace\": \"\", \"outcomeType\": 4}}, \"*\")"
      ],
      "text/plain": [
       "<IPython.core.display.Javascript object>"
      ]
     },
     "metadata": {},
     "output_type": "display_data"
    },
    {
     "data": {
      "text/markdown": [
       "<span style=\"color:#33cc99\">Solution:</span> \n",
       "```python\n",
       "return ketchup and mustard and onion\n",
       "```"
      ],
      "text/plain": [
       "Solution: \n",
       "```python\n",
       "return ketchup and mustard and onion\n",
       "```"
      ]
     },
     "metadata": {},
     "output_type": "display_data"
    }
   ],
   "source": [
    "#q5.a.hint()\n",
    "\n",
    "q5.a.solution()"
   ]
  },
  {
   "cell_type": "markdown",
   "id": "e1a909f1",
   "metadata": {
    "papermill": {
     "duration": 0.008043,
     "end_time": "2025-06-29T07:07:10.608235",
     "exception": false,
     "start_time": "2025-06-29T07:07:10.600192",
     "status": "completed"
    },
    "tags": []
   },
   "source": [
    "# 5b.\n",
    "\n",
    "For the next function, fill in the body to match the English description in the docstring. "
   ]
  },
  {
   "cell_type": "code",
   "execution_count": 15,
   "id": "11be57f0",
   "metadata": {
    "execution": {
     "iopub.execute_input": "2025-06-29T07:07:10.691170Z",
     "iopub.status.busy": "2025-06-29T07:07:10.690838Z",
     "iopub.status.idle": "2025-06-29T07:07:10.698719Z",
     "shell.execute_reply": "2025-06-29T07:07:10.697749Z"
    },
    "papermill": {
     "duration": 0.021166,
     "end_time": "2025-06-29T07:07:10.702904",
     "exception": false,
     "start_time": "2025-06-29T07:07:10.681738",
     "status": "completed"
    },
    "tags": []
   },
   "outputs": [
    {
     "data": {
      "application/javascript": [
       "parent.postMessage({\"jupyterEvent\": \"custom.exercise_interaction\", \"data\": {\"outcomeType\": 1, \"valueTowardsCompletion\": 0.2, \"interactionType\": 1, \"questionType\": 2, \"questionId\": \"5.2_PlainDog\", \"learnToolsVersion\": \"0.3.5\", \"failureMessage\": \"\", \"exceptionClass\": \"\", \"trace\": \"\"}}, \"*\")"
      ],
      "text/plain": [
       "<IPython.core.display.Javascript object>"
      ]
     },
     "metadata": {},
     "output_type": "display_data"
    },
    {
     "data": {
      "text/markdown": [
       "<span style=\"color:#33cc33\">Correct:</span> \n",
       "\n",
       "One solution looks like:\n",
       "```python\n",
       "return not ketchup and not mustard and not onion\n",
       "```\n",
       "\n",
       "We can also [\"factor out\" the nots](https://en.wikipedia.org/wiki/De_Morgan%27s_laws) to get:\n",
       "\n",
       "```python\n",
       "return not (ketchup or mustard or onion)\n",
       "```"
      ],
      "text/plain": [
       "Correct: \n",
       "\n",
       "One solution looks like:\n",
       "```python\n",
       "return not ketchup and not mustard and not onion\n",
       "```\n",
       "\n",
       "We can also [\"factor out\" the nots](https://en.wikipedia.org/wiki/De_Morgan%27s_laws) to get:\n",
       "\n",
       "```python\n",
       "return not (ketchup or mustard or onion)\n",
       "```"
      ]
     },
     "metadata": {},
     "output_type": "display_data"
    }
   ],
   "source": [
    "def wants_plain_hotdog(ketchup, mustard, onion):\n",
    "    \"\"\"Return whether the customer wants a plain hot dog with no toppings.\n",
    "    \"\"\"\n",
    "    pass\n",
    "    return not (ketchup or mustard or onion)\n",
    "\n",
    "# Check your answer\n",
    "q5.b.check()"
   ]
  },
  {
   "cell_type": "code",
   "execution_count": 16,
   "id": "923439ad",
   "metadata": {
    "execution": {
     "iopub.execute_input": "2025-06-29T07:07:10.721084Z",
     "iopub.status.busy": "2025-06-29T07:07:10.720762Z",
     "iopub.status.idle": "2025-06-29T07:07:10.724802Z",
     "shell.execute_reply": "2025-06-29T07:07:10.723919Z"
    },
    "papermill": {
     "duration": 0.014801,
     "end_time": "2025-06-29T07:07:10.726457",
     "exception": false,
     "start_time": "2025-06-29T07:07:10.711656",
     "status": "completed"
    },
    "tags": []
   },
   "outputs": [],
   "source": [
    "#q5.b.hint()\n",
    "#q5.b.solution()"
   ]
  },
  {
   "cell_type": "markdown",
   "id": "f326d495",
   "metadata": {
    "papermill": {
     "duration": 0.008376,
     "end_time": "2025-06-29T07:07:10.743376",
     "exception": false,
     "start_time": "2025-06-29T07:07:10.735000",
     "status": "completed"
    },
    "tags": []
   },
   "source": [
    "# 5c.\n",
    "\n",
    "You know what to do: for the next function, fill in the body to match the English description in the docstring."
   ]
  },
  {
   "cell_type": "code",
   "execution_count": 17,
   "id": "96cea443",
   "metadata": {
    "execution": {
     "iopub.execute_input": "2025-06-29T07:07:10.761328Z",
     "iopub.status.busy": "2025-06-29T07:07:10.760505Z",
     "iopub.status.idle": "2025-06-29T07:07:10.767967Z",
     "shell.execute_reply": "2025-06-29T07:07:10.767169Z"
    },
    "papermill": {
     "duration": 0.017656,
     "end_time": "2025-06-29T07:07:10.769215",
     "exception": false,
     "start_time": "2025-06-29T07:07:10.751559",
     "status": "completed"
    },
    "tags": []
   },
   "outputs": [
    {
     "data": {
      "application/javascript": [
       "parent.postMessage({\"jupyterEvent\": \"custom.exercise_interaction\", \"data\": {\"outcomeType\": 1, \"valueTowardsCompletion\": 0.2, \"interactionType\": 1, \"questionType\": 2, \"questionId\": \"5.3_OneSauce\", \"learnToolsVersion\": \"0.3.5\", \"failureMessage\": \"\", \"exceptionClass\": \"\", \"trace\": \"\"}}, \"*\")"
      ],
      "text/plain": [
       "<IPython.core.display.Javascript object>"
      ]
     },
     "metadata": {},
     "output_type": "display_data"
    },
    {
     "data": {
      "text/markdown": [
       "<span style=\"color:#33cc33\">Correct</span>"
      ],
      "text/plain": [
       "Correct"
      ]
     },
     "metadata": {},
     "output_type": "display_data"
    }
   ],
   "source": [
    "def exactly_one_sauce(ketchup, mustard, onion):\n",
    "    \"\"\"Return whether the customer wants either ketchup or mustard, but not both.\n",
    "    (You may be familiar with this operation under the name \"exclusive or\")\n",
    "    \"\"\"\n",
    "    pass\n",
    "    return (ketchup and not mustard) or (mustard and not ketchup)\n",
    "\n",
    "# Check your answer\n",
    "q5.c.check()"
   ]
  },
  {
   "cell_type": "code",
   "execution_count": 18,
   "id": "d56a4d28",
   "metadata": {
    "execution": {
     "iopub.execute_input": "2025-06-29T07:07:10.787533Z",
     "iopub.status.busy": "2025-06-29T07:07:10.787207Z",
     "iopub.status.idle": "2025-06-29T07:07:10.793524Z",
     "shell.execute_reply": "2025-06-29T07:07:10.792845Z"
    },
    "papermill": {
     "duration": 0.016975,
     "end_time": "2025-06-29T07:07:10.794882",
     "exception": false,
     "start_time": "2025-06-29T07:07:10.777907",
     "status": "completed"
    },
    "tags": []
   },
   "outputs": [
    {
     "data": {
      "application/javascript": [
       "parent.postMessage({\"jupyterEvent\": \"custom.exercise_interaction\", \"data\": {\"interactionType\": 3, \"questionType\": 2, \"questionId\": \"5.3_OneSauce\", \"learnToolsVersion\": \"0.3.5\", \"valueTowardsCompletion\": 0.0, \"failureMessage\": \"\", \"exceptionClass\": \"\", \"trace\": \"\", \"outcomeType\": 4}}, \"*\")"
      ],
      "text/plain": [
       "<IPython.core.display.Javascript object>"
      ]
     },
     "metadata": {},
     "output_type": "display_data"
    },
    {
     "data": {
      "text/markdown": [
       "<span style=\"color:#33cc99\">Solution:</span> \n",
       "```python\n",
       "return (ketchup and not mustard) or (mustard and not ketchup)\n",
       "```"
      ],
      "text/plain": [
       "Solution: \n",
       "```python\n",
       "return (ketchup and not mustard) or (mustard and not ketchup)\n",
       "```"
      ]
     },
     "metadata": {},
     "output_type": "display_data"
    }
   ],
   "source": [
    "#q5.c.hint()\n",
    "q5.c.solution()"
   ]
  },
  {
   "cell_type": "markdown",
   "id": "0407d415",
   "metadata": {
    "papermill": {
     "duration": 0.008581,
     "end_time": "2025-06-29T07:07:10.812805",
     "exception": false,
     "start_time": "2025-06-29T07:07:10.804224",
     "status": "completed"
    },
    "tags": []
   },
   "source": [
    "# 6. <span title=\"A bit spicy\" style=\"color: darkgreen \">🌶️</span>\n",
    "\n",
    "We’ve seen that calling `bool()` on an integer returns `False` if it’s equal to 0 and `True` otherwise. What happens if we call `int()` on a bool? Try it out in the notebook cell below.\n",
    "\n",
    "Can you take advantage of this to write a succinct function that corresponds to the English sentence \"does the customer want exactly one topping?\"?"
   ]
  },
  {
   "cell_type": "code",
   "execution_count": 19,
   "id": "32b27fd2",
   "metadata": {
    "execution": {
     "iopub.execute_input": "2025-06-29T07:07:10.831698Z",
     "iopub.status.busy": "2025-06-29T07:07:10.831402Z",
     "iopub.status.idle": "2025-06-29T07:07:10.838822Z",
     "shell.execute_reply": "2025-06-29T07:07:10.837975Z"
    },
    "papermill": {
     "duration": 0.01858,
     "end_time": "2025-06-29T07:07:10.840166",
     "exception": false,
     "start_time": "2025-06-29T07:07:10.821586",
     "status": "completed"
    },
    "tags": []
   },
   "outputs": [
    {
     "data": {
      "application/javascript": [
       "parent.postMessage({\"jupyterEvent\": \"custom.exercise_interaction\", \"data\": {\"outcomeType\": 1, \"valueTowardsCompletion\": 0.2, \"interactionType\": 1, \"questionType\": 2, \"questionId\": \"6_OneTopping\", \"learnToolsVersion\": \"0.3.5\", \"failureMessage\": \"\", \"exceptionClass\": \"\", \"trace\": \"\"}}, \"*\")"
      ],
      "text/plain": [
       "<IPython.core.display.Javascript object>"
      ]
     },
     "metadata": {},
     "output_type": "display_data"
    },
    {
     "data": {
      "text/markdown": [
       "<span style=\"color:#33cc33\">Correct:</span> \n",
       "\n",
       "This condition would be pretty complicated to express using just `and`, `or` and `not`, but using boolean-to-integer conversion gives us this short solution:\n",
       "```python\n",
       "return (int(ketchup) + int(mustard) + int(onion)) == 1\n",
       "```\n",
       "\n",
       "Fun fact: we don't technically need to call `int` on the arguments. Just by doing addition with booleans, Python implicitly does the integer conversion. So we could also write...\n",
       "\n",
       "```python\n",
       "return (ketchup + mustard + onion) == 1\n",
       "```"
      ],
      "text/plain": [
       "Correct: \n",
       "\n",
       "This condition would be pretty complicated to express using just `and`, `or` and `not`, but using boolean-to-integer conversion gives us this short solution:\n",
       "```python\n",
       "return (int(ketchup) + int(mustard) + int(onion)) == 1\n",
       "```\n",
       "\n",
       "Fun fact: we don't technically need to call `int` on the arguments. Just by doing addition with booleans, Python implicitly does the integer conversion. So we could also write...\n",
       "\n",
       "```python\n",
       "return (ketchup + mustard + onion) == 1\n",
       "```"
      ]
     },
     "metadata": {},
     "output_type": "display_data"
    }
   ],
   "source": [
    "def exactly_one_topping(ketchup, mustard, onion):\n",
    "    \"\"\"Return whether the customer wants exactly one of the three available toppings\n",
    "    on their hot dog.\n",
    "    \"\"\"\n",
    "    # pass\n",
    "    # number_of_toppings = int(ketchup) + int(mustard) + int(onion)\n",
    "    # if(number_of_toppings == 1):\n",
    "    #     return True\n",
    "    # else:\n",
    "    #     return False\n",
    "    return (ketchup + mustard + onion) == 1\n",
    "\n",
    "# Check your answer\n",
    "q6.check()"
   ]
  },
  {
   "cell_type": "code",
   "execution_count": 20,
   "id": "7742ab1d",
   "metadata": {
    "execution": {
     "iopub.execute_input": "2025-06-29T07:07:10.859511Z",
     "iopub.status.busy": "2025-06-29T07:07:10.859161Z",
     "iopub.status.idle": "2025-06-29T07:07:10.862578Z",
     "shell.execute_reply": "2025-06-29T07:07:10.861962Z"
    },
    "papermill": {
     "duration": 0.014506,
     "end_time": "2025-06-29T07:07:10.863960",
     "exception": false,
     "start_time": "2025-06-29T07:07:10.849454",
     "status": "completed"
    },
    "tags": []
   },
   "outputs": [],
   "source": [
    "#q6.hint()\n",
    "#q6.solution()"
   ]
  },
  {
   "cell_type": "markdown",
   "id": "03be7f7d",
   "metadata": {
    "papermill": {
     "duration": 0.008819,
     "end_time": "2025-06-29T07:07:10.882050",
     "exception": false,
     "start_time": "2025-06-29T07:07:10.873231",
     "status": "completed"
    },
    "tags": []
   },
   "source": [
    "# 7. <span title=\"A bit spicy\" style=\"color: darkgreen \">🌶️</span> (Optional)\n",
    "\n",
    "In this problem we'll be working with a simplified version of [blackjack](https://en.wikipedia.org/wiki/Blackjack) (aka twenty-one). In this version there is one player (who you'll control) and a dealer. Play proceeds as follows:\n",
    "\n",
    "- The player is dealt two face-up cards. The dealer is dealt one face-up card.\n",
    "- The player may ask to be dealt another card ('hit') as many times as they wish. If the sum of their cards exceeds 21, they lose the round immediately.\n",
    "- The dealer then deals additional cards to himself until either:\n",
    "    - the sum of the dealer's cards exceeds 21, in which case the player wins the round\n",
    "    - the sum of the dealer's cards is greater than or equal to 17. If the player's total is greater than the dealer's, the player wins. Otherwise, the dealer wins (even in case of a tie).\n",
    "    \n",
    "When calculating the sum of cards, Jack, Queen, and King count for 10. Aces can count as 1 or 11 (when referring to a player's \"total\" above, we mean the largest total that can be made without exceeding 21. So e.g. A+8 = 19, A+8+8 = 17)\n",
    "\n",
    "For this problem, you'll write a function representing the player's decision-making strategy in this game. We've provided a very unintelligent implementation below:"
   ]
  },
  {
   "cell_type": "code",
   "execution_count": 21,
   "id": "6919779d",
   "metadata": {
    "execution": {
     "iopub.execute_input": "2025-06-29T07:07:10.901815Z",
     "iopub.status.busy": "2025-06-29T07:07:10.901526Z",
     "iopub.status.idle": "2025-06-29T07:07:10.907297Z",
     "shell.execute_reply": "2025-06-29T07:07:10.906611Z"
    },
    "papermill": {
     "duration": 0.017531,
     "end_time": "2025-06-29T07:07:10.908656",
     "exception": false,
     "start_time": "2025-06-29T07:07:10.891125",
     "status": "completed"
    },
    "tags": []
   },
   "outputs": [],
   "source": [
    "def should_hit(dealer_total, player_total, player_low_aces, player_high_aces):\n",
    "    \"\"\"Return True if the player should hit (request another card) given the current game\n",
    "    state, or False if the player should stay.\n",
    "    When calculating a hand's total value, we count aces as \"high\" (with value 11) if doing so\n",
    "    doesn't bring the total above 21, otherwise we count them as low (with value 1). \n",
    "    For example, if the player's hand is {A, A, A, 7}, we will count it as 11 + 1 + 1 + 7,\n",
    "    and therefore set player_total=20, player_low_aces=2, player_high_aces=1.\n",
    "    \"\"\"\n",
    "    if player_total >= 21:\n",
    "        return False\n",
    "\n",
    "    is_soft = player_high_aces > 0\n",
    "\n",
    "    if is_soft:\n",
    "        # Soft totals (Ace counted as 11)\n",
    "        if player_total <= 17:\n",
    "            return True  # Always hit on soft 17 or lower\n",
    "        elif player_total == 18:\n",
    "            # Soft 18: Hit if dealer shows 9, 10, or Ace\n",
    "            return dealer_total in [9, 10, 11]\n",
    "        else:\n",
    "            return False  # Soft 19 or more: stand\n",
    "    else:\n",
    "        # Hard totals (no ace counted as 11)\n",
    "        if player_total <= 11:\n",
    "            return True  # Can't bust, always hit\n",
    "        elif player_total == 12:\n",
    "            return dealer_total in [2, 3, 7, 8, 9, 10, 11]  # Stand only on 4, 5, 6\n",
    "        elif 13 <= player_total <= 16:\n",
    "            return dealer_total >= 7  # Hit if dealer has high card\n",
    "        else:\n",
    "            return False  # 17 or more: stand"
   ]
  },
  {
   "cell_type": "markdown",
   "id": "3c786c02",
   "metadata": {
    "papermill": {
     "duration": 0.008411,
     "end_time": "2025-06-29T07:07:10.925953",
     "exception": false,
     "start_time": "2025-06-29T07:07:10.917542",
     "status": "completed"
    },
    "tags": []
   },
   "source": [
    "This very conservative agent *always* sticks with the hand of two cards that they're dealt.\n",
    "\n",
    "We'll be simulating games between your player agent and our own dealer agent by calling your function.\n",
    "\n",
    "Try running the function below to see an example of a simulated game:"
   ]
  },
  {
   "cell_type": "code",
   "execution_count": 22,
   "id": "f4dd0c5f",
   "metadata": {
    "execution": {
     "iopub.execute_input": "2025-06-29T07:07:10.945061Z",
     "iopub.status.busy": "2025-06-29T07:07:10.944769Z",
     "iopub.status.idle": "2025-06-29T07:07:10.949444Z",
     "shell.execute_reply": "2025-06-29T07:07:10.948418Z"
    },
    "papermill": {
     "duration": 0.016117,
     "end_time": "2025-06-29T07:07:10.950938",
     "exception": false,
     "start_time": "2025-06-29T07:07:10.934821",
     "status": "completed"
    },
    "tags": []
   },
   "outputs": [
    {
     "name": "stdout",
     "output_type": "stream",
     "text": [
      "Player starts with 6 and A (total = 17)\n",
      "Dealer starts with 7\n",
      "\n",
      "__Player's turn__\n",
      "Player hits and receives 10. (total = 17)\n",
      "Player stays\n",
      "\n",
      "__Dealer's turn__\n",
      "Dealer hits and receives 4. (total = 11)\n",
      "Dealer hits and receives 9. (total = 20)\n",
      "Dealer stands.\n",
      "Dealer wins. 20 >= 17\n"
     ]
    }
   ],
   "source": [
    "q7.simulate_one_game()"
   ]
  },
  {
   "cell_type": "markdown",
   "id": "3387ffac",
   "metadata": {
    "papermill": {
     "duration": 0.008697,
     "end_time": "2025-06-29T07:07:10.968726",
     "exception": false,
     "start_time": "2025-06-29T07:07:10.960029",
     "status": "completed"
    },
    "tags": []
   },
   "source": [
    "The real test of your agent's mettle is their average win rate over many games. Try calling the function below to simulate 50000 games of blackjack (it may take a couple seconds):"
   ]
  },
  {
   "cell_type": "code",
   "execution_count": 23,
   "id": "c41bc67d",
   "metadata": {
    "execution": {
     "iopub.execute_input": "2025-06-29T07:07:10.988423Z",
     "iopub.status.busy": "2025-06-29T07:07:10.988044Z",
     "iopub.status.idle": "2025-06-29T07:07:11.952226Z",
     "shell.execute_reply": "2025-06-29T07:07:11.951278Z"
    },
    "papermill": {
     "duration": 0.976099,
     "end_time": "2025-06-29T07:07:11.953651",
     "exception": false,
     "start_time": "2025-06-29T07:07:10.977552",
     "status": "completed"
    },
    "tags": []
   },
   "outputs": [
    {
     "name": "stdout",
     "output_type": "stream",
     "text": [
      "Player won 21534 out of 50000 games (win rate = 43.1%)\n"
     ]
    }
   ],
   "source": [
    "q7.simulate(n_games=50000)"
   ]
  },
  {
   "cell_type": "markdown",
   "id": "502eef10",
   "metadata": {
    "papermill": {
     "duration": 0.014149,
     "end_time": "2025-06-29T07:07:11.984874",
     "exception": false,
     "start_time": "2025-06-29T07:07:11.970725",
     "status": "completed"
    },
    "tags": []
   },
   "source": [
    "Our dumb agent that completely ignores the game state still manages to win shockingly often!\n",
    "\n",
    "Try adding some more smarts to the `should_hit` function and see how it affects the results."
   ]
  },
  {
   "cell_type": "code",
   "execution_count": 24,
   "id": "4634c1c4",
   "metadata": {
    "execution": {
     "iopub.execute_input": "2025-06-29T07:07:12.012777Z",
     "iopub.status.busy": "2025-06-29T07:07:12.012387Z",
     "iopub.status.idle": "2025-06-29T07:07:13.088190Z",
     "shell.execute_reply": "2025-06-29T07:07:13.087312Z"
    },
    "papermill": {
     "duration": 1.09238,
     "end_time": "2025-06-29T07:07:13.089820",
     "exception": false,
     "start_time": "2025-06-29T07:07:11.997440",
     "status": "completed"
    },
    "tags": []
   },
   "outputs": [
    {
     "name": "stdout",
     "output_type": "stream",
     "text": [
      "Player won 20773 out of 50000 games (win rate = 41.5%)\n"
     ]
    }
   ],
   "source": [
    "def should_hit(dealer_total, player_total, player_low_aces, player_high_aces):\n",
    "    \"\"\"Return True if the player should hit (request another card) given the current game\n",
    "    state, or False if the player should stay.\n",
    "    When calculating a hand's total value, we count aces as \"high\" (with value 11) if doing so\n",
    "    doesn't bring the total above 21, otherwise we count them as low (with value 1). \n",
    "    For example, if the player's hand is {A, A, A, 7}, we will count it as 11 + 1 + 1 + 7,\n",
    "    and therefore set player_total=20, player_low_aces=2, player_high_aces=1.\n",
    "    \"\"\"\n",
    "    if player_total <= 10:\n",
    "        player_high_aces +=1\n",
    "        # player_total += 11\n",
    "    else:\n",
    "        player_low_aces += 1\n",
    "        # player_total += 1\n",
    "    if  player_total < 11 or player_total < dealer_total :\n",
    "        return True\n",
    "\n",
    "    elif  player_total == 21 :\n",
    "        return False\n",
    "\n",
    "    elif player_total == 20 :\n",
    "        return False    \n",
    "\n",
    "    elif player_total >= 11 and player_total < 16 :\n",
    "        return True\n",
    "    else:\n",
    "        return False\n",
    "        \n",
    "q7.simulate(n_games=50000)"
   ]
  },
  {
   "cell_type": "markdown",
   "id": "48836045",
   "metadata": {
    "papermill": {
     "duration": 0.00903,
     "end_time": "2025-06-29T07:07:13.108334",
     "exception": false,
     "start_time": "2025-06-29T07:07:13.099304",
     "status": "completed"
    },
    "tags": []
   },
   "source": [
    "# Keep Going\n",
    "\n",
    "Learn about **[lists and tuples](https://www.kaggle.com/colinmorris/lists)** to handle multiple items of data in a systematic way."
   ]
  },
  {
   "cell_type": "markdown",
   "id": "d2edbe75",
   "metadata": {
    "papermill": {
     "duration": 0.008879,
     "end_time": "2025-06-29T07:07:13.126290",
     "exception": false,
     "start_time": "2025-06-29T07:07:13.117411",
     "status": "completed"
    },
    "tags": []
   },
   "source": [
    "---\n",
    "\n",
    "\n",
    "\n",
    "\n",
    "*Have questions or comments? Visit the [course discussion forum](https://www.kaggle.com/learn/python/discussion) to chat with other learners.*"
   ]
  }
 ],
 "metadata": {
  "kaggle": {
   "accelerator": "none",
   "dataSources": [],
   "isGpuEnabled": false,
   "isInternetEnabled": false,
   "language": "python",
   "sourceType": "notebook"
  },
  "kernelspec": {
   "display_name": "Python 3",
   "language": "python",
   "name": "python3"
  },
  "language_info": {
   "codemirror_mode": {
    "name": "ipython",
    "version": 3
   },
   "file_extension": ".py",
   "mimetype": "text/x-python",
   "name": "python",
   "nbconvert_exporter": "python",
   "pygments_lexer": "ipython3",
   "version": "3.11.11"
  },
  "learntools_metadata": {
   "lesson_index": 2,
   "type": "exercise"
  },
  "papermill": {
   "default_parameters": {},
   "duration": 10.02492,
   "end_time": "2025-06-29T07:07:13.655672",
   "environment_variables": {},
   "exception": null,
   "input_path": "__notebook__.ipynb",
   "output_path": "__notebook__.ipynb",
   "parameters": {},
   "start_time": "2025-06-29T07:07:03.630752",
   "version": "2.6.0"
  }
 },
 "nbformat": 4,
 "nbformat_minor": 5
}
