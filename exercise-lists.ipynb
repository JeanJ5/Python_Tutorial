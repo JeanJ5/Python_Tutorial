{
 "cells": [
  {
   "cell_type": "markdown",
   "id": "b2a10b1e",
   "metadata": {
    "papermill": {
     "duration": 0.004952,
     "end_time": "2025-07-01T05:06:01.352597",
     "exception": false,
     "start_time": "2025-07-01T05:06:01.347645",
     "status": "completed"
    },
    "tags": []
   },
   "source": [
    "**This notebook is an exercise in the [Python](https://www.kaggle.com/learn/python) course.  You can reference the tutorial at [this link](https://www.kaggle.com/colinmorris/lists).**\n",
    "\n",
    "---\n"
   ]
  },
  {
   "cell_type": "markdown",
   "id": "c3181177",
   "metadata": {
    "papermill": {
     "duration": 0.003168,
     "end_time": "2025-07-01T05:06:01.359429",
     "exception": false,
     "start_time": "2025-07-01T05:06:01.356261",
     "status": "completed"
    },
    "tags": []
   },
   "source": [
    "Things get more interesting with lists. You'll apply your new knowledge to solve the questions below. Remember to run the following cell first."
   ]
  },
  {
   "cell_type": "code",
   "execution_count": 1,
   "id": "d4ece05e",
   "metadata": {
    "execution": {
     "iopub.execute_input": "2025-07-01T05:06:01.367790Z",
     "iopub.status.busy": "2025-07-01T05:06:01.367402Z",
     "iopub.status.idle": "2025-07-01T05:06:03.446759Z",
     "shell.execute_reply": "2025-07-01T05:06:03.445877Z"
    },
    "papermill": {
     "duration": 2.085263,
     "end_time": "2025-07-01T05:06:03.448230",
     "exception": false,
     "start_time": "2025-07-01T05:06:01.362967",
     "status": "completed"
    },
    "tags": []
   },
   "outputs": [
    {
     "name": "stdout",
     "output_type": "stream",
     "text": [
      "Setup complete.\n"
     ]
    }
   ],
   "source": [
    "from learntools.core import binder; binder.bind(globals())\n",
    "from learntools.python.ex4 import *\n",
    "print('Setup complete.')"
   ]
  },
  {
   "cell_type": "markdown",
   "id": "5f7d3c94",
   "metadata": {
    "papermill": {
     "duration": 0.003317,
     "end_time": "2025-07-01T05:06:03.455100",
     "exception": false,
     "start_time": "2025-07-01T05:06:03.451783",
     "status": "completed"
    },
    "tags": []
   },
   "source": [
    "# 1.\n",
    "\n",
    "Complete the function below according to its docstring."
   ]
  },
  {
   "cell_type": "code",
   "execution_count": 2,
   "id": "3e8ea14f",
   "metadata": {
    "execution": {
     "iopub.execute_input": "2025-07-01T05:06:03.463346Z",
     "iopub.status.busy": "2025-07-01T05:06:03.462884Z",
     "iopub.status.idle": "2025-07-01T05:06:03.471470Z",
     "shell.execute_reply": "2025-07-01T05:06:03.470778Z"
    },
    "papermill": {
     "duration": 0.014152,
     "end_time": "2025-07-01T05:06:03.472689",
     "exception": false,
     "start_time": "2025-07-01T05:06:03.458537",
     "status": "completed"
    },
    "tags": []
   },
   "outputs": [
    {
     "data": {
      "application/javascript": [
       "parent.postMessage({\"jupyterEvent\": \"custom.exercise_interaction\", \"data\": {\"outcomeType\": 1, \"valueTowardsCompletion\": 0.2, \"interactionType\": 1, \"questionType\": 2, \"questionId\": \"1_SelectSecondItem\", \"learnToolsVersion\": \"0.3.5\", \"failureMessage\": \"\", \"exceptionClass\": \"\", \"trace\": \"\"}}, \"*\")"
      ],
      "text/plain": [
       "<IPython.core.display.Javascript object>"
      ]
     },
     "metadata": {},
     "output_type": "display_data"
    },
    {
     "data": {
      "text/markdown": [
       "<span style=\"color:#33cc33\">Correct</span>"
      ],
      "text/plain": [
       "Correct"
      ]
     },
     "metadata": {},
     "output_type": "display_data"
    }
   ],
   "source": [
    "def select_second(L):\n",
    "    \"\"\"Return the second element of the given list. If the list has no second\n",
    "    element, return None.\n",
    "    \"\"\"\n",
    "\n",
    "    if len(L) < 2:\n",
    "        return None\n",
    "    return L[1]\n",
    "    \n",
    "\n",
    "# Check your answer\n",
    "q1.check()"
   ]
  },
  {
   "cell_type": "code",
   "execution_count": 3,
   "id": "f087e7b6",
   "metadata": {
    "execution": {
     "iopub.execute_input": "2025-07-01T05:06:03.481885Z",
     "iopub.status.busy": "2025-07-01T05:06:03.481616Z",
     "iopub.status.idle": "2025-07-01T05:06:03.485362Z",
     "shell.execute_reply": "2025-07-01T05:06:03.484481Z"
    },
    "papermill": {
     "duration": 0.010079,
     "end_time": "2025-07-01T05:06:03.486726",
     "exception": false,
     "start_time": "2025-07-01T05:06:03.476647",
     "status": "completed"
    },
    "tags": []
   },
   "outputs": [],
   "source": [
    "# q1.hint()\n",
    "# q1.solution()"
   ]
  },
  {
   "cell_type": "markdown",
   "id": "794ab07f",
   "metadata": {
    "papermill": {
     "duration": 0.003756,
     "end_time": "2025-07-01T05:06:03.494196",
     "exception": false,
     "start_time": "2025-07-01T05:06:03.490440",
     "status": "completed"
    },
    "tags": []
   },
   "source": [
    "# 2.\n",
    "\n",
    "You are analyzing sports teams.  Members of each team are stored in a list. The Coach is the first name in the list, the captain is the second name in the list, and other players are listed after that. \n",
    "These lists are stored in another list, which starts with the best team and proceeds through the list to the worst team last.  Complete the function below to select the **captain** of the worst team."
   ]
  },
  {
   "cell_type": "code",
   "execution_count": 4,
   "id": "634b146e",
   "metadata": {
    "execution": {
     "iopub.execute_input": "2025-07-01T05:06:03.503852Z",
     "iopub.status.busy": "2025-07-01T05:06:03.502639Z",
     "iopub.status.idle": "2025-07-01T05:06:03.510856Z",
     "shell.execute_reply": "2025-07-01T05:06:03.509956Z"
    },
    "papermill": {
     "duration": 0.014647,
     "end_time": "2025-07-01T05:06:03.512506",
     "exception": false,
     "start_time": "2025-07-01T05:06:03.497859",
     "status": "completed"
    },
    "tags": []
   },
   "outputs": [
    {
     "data": {
      "application/javascript": [
       "parent.postMessage({\"jupyterEvent\": \"custom.exercise_interaction\", \"data\": {\"outcomeType\": 1, \"valueTowardsCompletion\": 0.2, \"interactionType\": 1, \"questionType\": 2, \"questionId\": \"2_LosingTeamCaptain\", \"learnToolsVersion\": \"0.3.5\", \"failureMessage\": \"\", \"exceptionClass\": \"\", \"trace\": \"\"}}, \"*\")"
      ],
      "text/plain": [
       "<IPython.core.display.Javascript object>"
      ]
     },
     "metadata": {},
     "output_type": "display_data"
    },
    {
     "data": {
      "text/markdown": [
       "<span style=\"color:#33cc33\">Correct</span>"
      ],
      "text/plain": [
       "Correct"
      ]
     },
     "metadata": {},
     "output_type": "display_data"
    }
   ],
   "source": [
    "def losing_team_captain(teams):\n",
    "    \"\"\"Given a list of teams, where each team is a list of names, return the 2nd player (captain)\n",
    "    from the last listed team\n",
    "    \"\"\"\n",
    "    pass\n",
    "    return teams[-1][1]\n",
    "\n",
    "# Check your answer\n",
    "q2.check()"
   ]
  },
  {
   "cell_type": "code",
   "execution_count": 5,
   "id": "b53eb065",
   "metadata": {
    "execution": {
     "iopub.execute_input": "2025-07-01T05:06:03.521769Z",
     "iopub.status.busy": "2025-07-01T05:06:03.521476Z",
     "iopub.status.idle": "2025-07-01T05:06:03.528118Z",
     "shell.execute_reply": "2025-07-01T05:06:03.527250Z"
    },
    "papermill": {
     "duration": 0.01306,
     "end_time": "2025-07-01T05:06:03.529469",
     "exception": false,
     "start_time": "2025-07-01T05:06:03.516409",
     "status": "completed"
    },
    "tags": []
   },
   "outputs": [
    {
     "data": {
      "application/javascript": [
       "parent.postMessage({\"jupyterEvent\": \"custom.exercise_interaction\", \"data\": {\"interactionType\": 3, \"questionType\": 2, \"questionId\": \"2_LosingTeamCaptain\", \"learnToolsVersion\": \"0.3.5\", \"valueTowardsCompletion\": 0.0, \"failureMessage\": \"\", \"exceptionClass\": \"\", \"trace\": \"\", \"outcomeType\": 4}}, \"*\")"
      ],
      "text/plain": [
       "<IPython.core.display.Javascript object>"
      ]
     },
     "metadata": {},
     "output_type": "display_data"
    },
    {
     "data": {
      "text/markdown": [
       "<span style=\"color:#33cc99\">Solution:</span> \n",
       "```python\n",
       "def losing_team_captain(teams):\n",
       "    return teams[-1][1]\n",
       "```"
      ],
      "text/plain": [
       "Solution: \n",
       "```python\n",
       "def losing_team_captain(teams):\n",
       "    return teams[-1][1]\n",
       "```"
      ]
     },
     "metadata": {},
     "output_type": "display_data"
    }
   ],
   "source": [
    "#q2.hint()\n",
    "\n",
    "q2.solution()"
   ]
  },
  {
   "cell_type": "markdown",
   "id": "2ac8900e",
   "metadata": {
    "papermill": {
     "duration": 0.003804,
     "end_time": "2025-07-01T05:06:03.537525",
     "exception": false,
     "start_time": "2025-07-01T05:06:03.533721",
     "status": "completed"
    },
    "tags": []
   },
   "source": [
    "# 3.\n",
    "\n",
    "The next iteration of Mario Kart will feature an extra-infuriating new item, the *Purple Shell*. When used, it warps the last place racer into first place and the first place racer into last place. Complete the function below to implement the Purple Shell's effect."
   ]
  },
  {
   "cell_type": "code",
   "execution_count": 6,
   "id": "2e295a85",
   "metadata": {
    "execution": {
     "iopub.execute_input": "2025-07-01T05:06:03.546664Z",
     "iopub.status.busy": "2025-07-01T05:06:03.546374Z",
     "iopub.status.idle": "2025-07-01T05:06:03.555861Z",
     "shell.execute_reply": "2025-07-01T05:06:03.555055Z"
    },
    "papermill": {
     "duration": 0.016762,
     "end_time": "2025-07-01T05:06:03.558200",
     "exception": false,
     "start_time": "2025-07-01T05:06:03.541438",
     "status": "completed"
    },
    "tags": []
   },
   "outputs": [
    {
     "name": "stdout",
     "output_type": "stream",
     "text": [
      "['M', 'L']\n",
      "['L', 'M']\n",
      "['M', 'L', 'J']\n",
      "['J', 'L', 'M']\n",
      "[1, 2, 3, 4, 5]\n",
      "[5, 2, 3, 4, 1]\n"
     ]
    },
    {
     "data": {
      "application/javascript": [
       "parent.postMessage({\"jupyterEvent\": \"custom.exercise_interaction\", \"data\": {\"outcomeType\": 1, \"valueTowardsCompletion\": 0.2, \"interactionType\": 1, \"questionType\": 2, \"questionId\": \"3_PurpleShell\", \"learnToolsVersion\": \"0.3.5\", \"failureMessage\": \"\", \"exceptionClass\": \"\", \"trace\": \"\"}}, \"*\")"
      ],
      "text/plain": [
       "<IPython.core.display.Javascript object>"
      ]
     },
     "metadata": {},
     "output_type": "display_data"
    },
    {
     "data": {
      "text/markdown": [
       "<span style=\"color:#33cc33\">Correct</span>"
      ],
      "text/plain": [
       "Correct"
      ]
     },
     "metadata": {},
     "output_type": "display_data"
    }
   ],
   "source": [
    "def purple_shell(racers):\n",
    "    \"\"\"Given a list of racers, set the first place racer (at the front of the list) to last\n",
    "    place and vice versa.\n",
    "    \n",
    "    >>> r = [\"Mario\", \"Bowser\", \"Luigi\"]\n",
    "    >>> purple_shell(r)\n",
    "    >>> r\n",
    "    [\"Luigi\", \"Bowser\", \"Mario\"]\n",
    "    \"\"\"\n",
    "    pass\n",
    "    # Initial synax check using print\n",
    "    print(racers)\n",
    "    temp =racers[-1]\n",
    "    racers[-1] = racers[0]\n",
    "    racers[0] = temp\n",
    "    # final syntax check using print\n",
    "    print(racers)\n",
    "\n",
    "# Check your answer\n",
    "q3.check()"
   ]
  },
  {
   "cell_type": "code",
   "execution_count": 7,
   "id": "2925983c",
   "metadata": {
    "execution": {
     "iopub.execute_input": "2025-07-01T05:06:03.568819Z",
     "iopub.status.busy": "2025-07-01T05:06:03.567832Z",
     "iopub.status.idle": "2025-07-01T05:06:03.571909Z",
     "shell.execute_reply": "2025-07-01T05:06:03.571223Z"
    },
    "papermill": {
     "duration": 0.01055,
     "end_time": "2025-07-01T05:06:03.573220",
     "exception": false,
     "start_time": "2025-07-01T05:06:03.562670",
     "status": "completed"
    },
    "tags": []
   },
   "outputs": [],
   "source": [
    "# q3.hint()\n",
    "# q3.solution()"
   ]
  },
  {
   "cell_type": "markdown",
   "id": "2610f639",
   "metadata": {
    "papermill": {
     "duration": 0.003964,
     "end_time": "2025-07-01T05:06:03.581786",
     "exception": false,
     "start_time": "2025-07-01T05:06:03.577822",
     "status": "completed"
    },
    "tags": []
   },
   "source": [
    "# 4.\n",
    "\n",
    "What are the lengths of the following lists? Fill in the variable `lengths` with your predictions. (Try to make a prediction for each list *without* just calling `len()` on it.)"
   ]
  },
  {
   "cell_type": "code",
   "execution_count": 8,
   "id": "47633202",
   "metadata": {
    "execution": {
     "iopub.execute_input": "2025-07-01T05:06:03.591588Z",
     "iopub.status.busy": "2025-07-01T05:06:03.591279Z",
     "iopub.status.idle": "2025-07-01T05:06:03.599718Z",
     "shell.execute_reply": "2025-07-01T05:06:03.598963Z"
    },
    "papermill": {
     "duration": 0.014854,
     "end_time": "2025-07-01T05:06:03.600884",
     "exception": false,
     "start_time": "2025-07-01T05:06:03.586030",
     "status": "completed"
    },
    "tags": []
   },
   "outputs": [
    {
     "data": {
      "application/javascript": [
       "parent.postMessage({\"jupyterEvent\": \"custom.exercise_interaction\", \"data\": {\"outcomeType\": 1, \"valueTowardsCompletion\": 0.2, \"interactionType\": 1, \"questionType\": 1, \"questionId\": \"4_UnderstandLen\", \"learnToolsVersion\": \"0.3.5\", \"failureMessage\": \"\", \"exceptionClass\": \"\", \"trace\": \"\"}}, \"*\")"
      ],
      "text/plain": [
       "<IPython.core.display.Javascript object>"
      ]
     },
     "metadata": {},
     "output_type": "display_data"
    },
    {
     "data": {
      "text/markdown": [
       "<span style=\"color:#33cc33\">Correct:</span> \n",
       "\n",
       "\n",
       "- a: There are three items in this list. Nothing tricky yet.\n",
       "- b: The list `[2, 3]` counts as a single item. It has one item before it. So we have 2 items in the list\n",
       "- c: The empty list has 0 items\n",
       "- d: The expression is the same as the list `[2, 3]`, which has length 2."
      ],
      "text/plain": [
       "Correct: \n",
       "\n",
       "\n",
       "- a: There are three items in this list. Nothing tricky yet.\n",
       "- b: The list `[2, 3]` counts as a single item. It has one item before it. So we have 2 items in the list\n",
       "- c: The empty list has 0 items\n",
       "- d: The expression is the same as the list `[2, 3]`, which has length 2."
      ]
     },
     "metadata": {},
     "output_type": "display_data"
    }
   ],
   "source": [
    "a = [1, 2, 3]\n",
    "b = [1, [2, 3]]\n",
    "c = []\n",
    "d = [1, 2, 3][1:]\n",
    "\n",
    "# Put your predictions in the list below. Lengths should contain 4 numbers, the\n",
    "# first being the length of a, the second being the length of b and so on.\n",
    "lengths = [3 , 2 , 0 , 2]\n",
    "\n",
    "# Check your answer\n",
    "q4.check()"
   ]
  },
  {
   "cell_type": "code",
   "execution_count": 9,
   "id": "59a3863d",
   "metadata": {
    "collapsed": true,
    "execution": {
     "iopub.execute_input": "2025-07-01T05:06:03.611203Z",
     "iopub.status.busy": "2025-07-01T05:06:03.610815Z",
     "iopub.status.idle": "2025-07-01T05:06:03.614911Z",
     "shell.execute_reply": "2025-07-01T05:06:03.614066Z"
    },
    "jupyter": {
     "outputs_hidden": true
    },
    "papermill": {
     "duration": 0.01099,
     "end_time": "2025-07-01T05:06:03.616483",
     "exception": false,
     "start_time": "2025-07-01T05:06:03.605493",
     "status": "completed"
    },
    "tags": []
   },
   "outputs": [],
   "source": [
    "# line below provides some explanation\n",
    "#q4.solution()"
   ]
  },
  {
   "cell_type": "markdown",
   "id": "9c0e6933",
   "metadata": {
    "papermill": {
     "duration": 0.004776,
     "end_time": "2025-07-01T05:06:03.625931",
     "exception": false,
     "start_time": "2025-07-01T05:06:03.621155",
     "status": "completed"
    },
    "tags": []
   },
   "source": [
    "# 5. <span title=\"A bit spicy\" style=\"color: darkgreen \">🌶️</span>\n",
    "\n",
    "We're using lists to record people who attended our party and what order they arrived in. For example, the following list represents a party with 7 guests, in which Adela showed up first and Ford was the last to arrive:\n",
    "\n",
    "    party_attendees = ['Adela', 'Fleda', 'Owen', 'May', 'Mona', 'Gilbert', 'Ford']\n",
    "\n",
    "A guest is considered 'fashionably late' if they arrived after at least half of the party's guests. However, they must not be the very last guest (that's taking it too far). In the above example, Mona and Gilbert are the only guests who were fashionably late.\n",
    "\n",
    "Complete the function below which takes a list of party attendees as well as a person, and tells us whether that person is fashionably late."
   ]
  },
  {
   "cell_type": "code",
   "execution_count": 10,
   "id": "fecee2c5",
   "metadata": {
    "execution": {
     "iopub.execute_input": "2025-07-01T05:06:03.635764Z",
     "iopub.status.busy": "2025-07-01T05:06:03.635476Z",
     "iopub.status.idle": "2025-07-01T05:06:03.643699Z",
     "shell.execute_reply": "2025-07-01T05:06:03.642963Z"
    },
    "papermill": {
     "duration": 0.014839,
     "end_time": "2025-07-01T05:06:03.645177",
     "exception": false,
     "start_time": "2025-07-01T05:06:03.630338",
     "status": "completed"
    },
    "tags": []
   },
   "outputs": [
    {
     "name": "stdout",
     "output_type": "stream",
     "text": [
      "7\n",
      "4\n",
      "7\n",
      "4\n",
      "7\n",
      "4\n",
      "7\n",
      "4\n",
      "7\n",
      "4\n",
      "7\n",
      "4\n",
      "7\n",
      "4\n",
      "4\n",
      "2\n",
      "4\n",
      "2\n",
      "2\n",
      "1\n",
      "2\n",
      "1\n"
     ]
    },
    {
     "data": {
      "application/javascript": [
       "parent.postMessage({\"jupyterEvent\": \"custom.exercise_interaction\", \"data\": {\"outcomeType\": 1, \"valueTowardsCompletion\": 0.2, \"interactionType\": 1, \"questionType\": 2, \"questionId\": \"5_FashionablyLate\", \"learnToolsVersion\": \"0.3.5\", \"failureMessage\": \"\", \"exceptionClass\": \"\", \"trace\": \"\"}}, \"*\")"
      ],
      "text/plain": [
       "<IPython.core.display.Javascript object>"
      ]
     },
     "metadata": {},
     "output_type": "display_data"
    },
    {
     "data": {
      "text/markdown": [
       "<span style=\"color:#33cc33\">Correct</span>"
      ],
      "text/plain": [
       "Correct"
      ]
     },
     "metadata": {},
     "output_type": "display_data"
    }
   ],
   "source": [
    "def fashionably_late(arrivals, name):\n",
    "    \"\"\"Given an ordered list of arrivals to the party and a name, return whether the guest with that\n",
    "    name was fashionably late.\n",
    "    \"\"\"\n",
    "    late_string = len(arrivals)\n",
    "    print(late_string)\n",
    "    if late_string % 2 != 0 :\n",
    "        late_string += 1\n",
    "    mid = late_string // 2\n",
    "    \n",
    "    print(mid)\n",
    "    \n",
    "    if name in arrivals[mid :-1]:\n",
    "        return True\n",
    "    return False\n",
    "\n",
    "\n",
    "# Check your answer\n",
    "q5.check()"
   ]
  },
  {
   "cell_type": "code",
   "execution_count": 11,
   "id": "70fb3fe7",
   "metadata": {
    "execution": {
     "iopub.execute_input": "2025-07-01T05:06:03.656452Z",
     "iopub.status.busy": "2025-07-01T05:06:03.656156Z",
     "iopub.status.idle": "2025-07-01T05:06:03.663479Z",
     "shell.execute_reply": "2025-07-01T05:06:03.662692Z"
    },
    "papermill": {
     "duration": 0.014602,
     "end_time": "2025-07-01T05:06:03.664695",
     "exception": false,
     "start_time": "2025-07-01T05:06:03.650093",
     "status": "completed"
    },
    "tags": []
   },
   "outputs": [
    {
     "data": {
      "application/javascript": [
       "parent.postMessage({\"jupyterEvent\": \"custom.exercise_interaction\", \"data\": {\"interactionType\": 2, \"questionType\": 2, \"questionId\": \"5_FashionablyLate\", \"learnToolsVersion\": \"0.3.5\", \"valueTowardsCompletion\": 0.0, \"failureMessage\": \"\", \"exceptionClass\": \"\", \"trace\": \"\", \"outcomeType\": 4}}, \"*\")"
      ],
      "text/plain": [
       "<IPython.core.display.Javascript object>"
      ]
     },
     "metadata": {},
     "output_type": "display_data"
    },
    {
     "data": {
      "text/markdown": [
       "<span style=\"color:#3366cc\">Hint:</span> Use the index method to find when the person arrived. Check whether that is a fashionably late spot given the list length (`len`). Think about 0-indexing"
      ],
      "text/plain": [
       "Hint: Use the index method to find when the person arrived. Check whether that is a fashionably late spot given the list length (`len`). Think about 0-indexing"
      ]
     },
     "metadata": {},
     "output_type": "display_data"
    }
   ],
   "source": [
    "q5.hint()\n",
    "#q5.solution()"
   ]
  },
  {
   "cell_type": "markdown",
   "id": "f3697775",
   "metadata": {
    "papermill": {
     "duration": 0.004559,
     "end_time": "2025-07-01T05:06:03.674353",
     "exception": false,
     "start_time": "2025-07-01T05:06:03.669794",
     "status": "completed"
    },
    "tags": []
   },
   "source": [
    "# Keep Going\n",
    "\n",
    "That's it for lists and tuples! Now you have the baseline knowledge to **[learn about loops](https://www.kaggle.com/colinmorris/loops-and-list-comprehensions)**, which is where lists and tuples get really interesting. "
   ]
  },
  {
   "cell_type": "markdown",
   "id": "d19a61f7",
   "metadata": {
    "papermill": {
     "duration": 0.005076,
     "end_time": "2025-07-01T05:06:03.684141",
     "exception": false,
     "start_time": "2025-07-01T05:06:03.679065",
     "status": "completed"
    },
    "tags": []
   },
   "source": [
    "---\n",
    "\n",
    "\n",
    "\n",
    "\n",
    "*Have questions or comments? Visit the [course discussion forum](https://www.kaggle.com/learn/python/discussion) to chat with other learners.*"
   ]
  }
 ],
 "metadata": {
  "kaggle": {
   "accelerator": "none",
   "dataSources": [],
   "isGpuEnabled": false,
   "isInternetEnabled": false,
   "language": "python",
   "sourceType": "notebook"
  },
  "kernelspec": {
   "display_name": "Python 3",
   "language": "python",
   "name": "python3"
  },
  "language_info": {
   "codemirror_mode": {
    "name": "ipython",
    "version": 3
   },
   "file_extension": ".py",
   "mimetype": "text/x-python",
   "name": "python",
   "nbconvert_exporter": "python",
   "pygments_lexer": "ipython3",
   "version": "3.11.11"
  },
  "learntools_metadata": {
   "lesson_index": 3,
   "type": "exercise"
  },
  "papermill": {
   "default_parameters": {},
   "duration": 7.769747,
   "end_time": "2025-07-01T05:06:04.209195",
   "environment_variables": {},
   "exception": null,
   "input_path": "__notebook__.ipynb",
   "output_path": "__notebook__.ipynb",
   "parameters": {},
   "start_time": "2025-07-01T05:05:56.439448",
   "version": "2.6.0"
  }
 },
 "nbformat": 4,
 "nbformat_minor": 5
}
