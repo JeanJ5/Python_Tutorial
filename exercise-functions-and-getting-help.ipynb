{
 "cells": [
  {
   "cell_type": "markdown",
   "id": "359a57ce",
   "metadata": {
    "papermill": {
     "duration": 0.004753,
     "end_time": "2025-06-29T05:23:00.498828",
     "exception": false,
     "start_time": "2025-06-29T05:23:00.494075",
     "status": "completed"
    },
    "tags": []
   },
   "source": [
    "**This notebook is an exercise in the [Python](https://www.kaggle.com/learn/python) course.  You can reference the tutorial at [this link](https://www.kaggle.com/colinmorris/functions-and-getting-help).**\n",
    "\n",
    "---\n"
   ]
  },
  {
   "cell_type": "markdown",
   "id": "db009e4d",
   "metadata": {
    "papermill": {
     "duration": 0.003942,
     "end_time": "2025-06-29T05:23:00.506815",
     "exception": false,
     "start_time": "2025-06-29T05:23:00.502873",
     "status": "completed"
    },
    "tags": []
   },
   "source": [
    "Functions are powerful. Try writing some yourself.\n",
    "\n",
    "As before, don't forget to run the setup code below before jumping into question 1."
   ]
  },
  {
   "cell_type": "code",
   "execution_count": 1,
   "id": "631763b1",
   "metadata": {
    "_kg_hide-input": true,
    "_kg_hide-output": true,
    "execution": {
     "iopub.execute_input": "2025-06-29T05:23:00.515913Z",
     "iopub.status.busy": "2025-06-29T05:23:00.515564Z",
     "iopub.status.idle": "2025-06-29T05:23:02.616558Z",
     "shell.execute_reply": "2025-06-29T05:23:02.615527Z"
    },
    "papermill": {
     "duration": 2.107306,
     "end_time": "2025-06-29T05:23:02.618086",
     "exception": false,
     "start_time": "2025-06-29T05:23:00.510780",
     "status": "completed"
    },
    "tags": []
   },
   "outputs": [
    {
     "name": "stdout",
     "output_type": "stream",
     "text": [
      "Setup complete.\n"
     ]
    }
   ],
   "source": [
    "# SETUP. You don't need to worry for now about what this code does or how it works.\n",
    "from learntools.core import binder; binder.bind(globals())\n",
    "from learntools.python.ex2 import *\n",
    "print('Setup complete.')"
   ]
  },
  {
   "cell_type": "markdown",
   "id": "6b9857ac",
   "metadata": {
    "papermill": {
     "duration": 0.004057,
     "end_time": "2025-06-29T05:23:02.626263",
     "exception": false,
     "start_time": "2025-06-29T05:23:02.622206",
     "status": "completed"
    },
    "tags": []
   },
   "source": [
    "# 1.\n",
    "\n",
    "Complete the body of the following function according to its docstring.\n",
    "\n",
    "HINT: Python has a built-in function `round`."
   ]
  },
  {
   "cell_type": "code",
   "execution_count": 2,
   "id": "d3018b25",
   "metadata": {
    "execution": {
     "iopub.execute_input": "2025-06-29T05:23:02.635614Z",
     "iopub.status.busy": "2025-06-29T05:23:02.635139Z",
     "iopub.status.idle": "2025-06-29T05:23:02.645265Z",
     "shell.execute_reply": "2025-06-29T05:23:02.644339Z"
    },
    "papermill": {
     "duration": 0.016696,
     "end_time": "2025-06-29T05:23:02.647028",
     "exception": false,
     "start_time": "2025-06-29T05:23:02.630332",
     "status": "completed"
    },
    "tags": []
   },
   "outputs": [
    {
     "data": {
      "application/javascript": [
       "parent.postMessage({\"jupyterEvent\": \"custom.exercise_interaction\", \"data\": {\"outcomeType\": 1, \"valueTowardsCompletion\": 0.16666666666666666, \"interactionType\": 1, \"questionType\": 2, \"questionId\": \"1_RoundFunctionProblem\", \"learnToolsVersion\": \"0.3.5\", \"failureMessage\": \"\", \"exceptionClass\": \"\", \"trace\": \"\"}}, \"*\")"
      ],
      "text/plain": [
       "<IPython.core.display.Javascript object>"
      ]
     },
     "metadata": {},
     "output_type": "display_data"
    },
    {
     "data": {
      "text/markdown": [
       "<span style=\"color:#33cc33\">Correct</span>"
      ],
      "text/plain": [
       "Correct"
      ]
     },
     "metadata": {},
     "output_type": "display_data"
    }
   ],
   "source": [
    "def round_to_two_places(num):\n",
    "    \"\"\"Return the given number rounded to two decimal places. \n",
    "    \n",
    "    >>> round_to_two_places(3.14159)\n",
    "    3.14\n",
    "    \"\"\"\n",
    "    # Replace this body with your own code.\n",
    "    # (\"pass\" is a keyword that does literally nothing. We used it as a placeholder\n",
    "    # because after we begin a code block, Python requires at least one line of code)\n",
    "    pass\n",
    "    return(round(num , 2))\n",
    "\n",
    "# Check your answer\n",
    "q1.check()"
   ]
  },
  {
   "cell_type": "code",
   "execution_count": 3,
   "id": "a04b3327",
   "metadata": {
    "execution": {
     "iopub.execute_input": "2025-06-29T05:23:02.656926Z",
     "iopub.status.busy": "2025-06-29T05:23:02.656614Z",
     "iopub.status.idle": "2025-06-29T05:23:02.664261Z",
     "shell.execute_reply": "2025-06-29T05:23:02.663368Z"
    },
    "papermill": {
     "duration": 0.014603,
     "end_time": "2025-06-29T05:23:02.665982",
     "exception": false,
     "start_time": "2025-06-29T05:23:02.651379",
     "status": "completed"
    },
    "tags": []
   },
   "outputs": [
    {
     "data": {
      "application/javascript": [
       "parent.postMessage({\"jupyterEvent\": \"custom.exercise_interaction\", \"data\": {\"interactionType\": 3, \"questionType\": 2, \"questionId\": \"1_RoundFunctionProblem\", \"learnToolsVersion\": \"0.3.5\", \"valueTowardsCompletion\": 0.0, \"failureMessage\": \"\", \"exceptionClass\": \"\", \"trace\": \"\", \"outcomeType\": 4}}, \"*\")"
      ],
      "text/plain": [
       "<IPython.core.display.Javascript object>"
      ]
     },
     "metadata": {},
     "output_type": "display_data"
    },
    {
     "data": {
      "text/markdown": [
       "<span style=\"color:#33cc99\">Solution:</span> \n",
       "```python\n",
       "return round(num, 2)\n",
       "```"
      ],
      "text/plain": [
       "Solution: \n",
       "```python\n",
       "return round(num, 2)\n",
       "```"
      ]
     },
     "metadata": {},
     "output_type": "display_data"
    }
   ],
   "source": [
    "# Uncomment the following for a hint\n",
    "#q1.hint()\n",
    "# Or uncomment the following to peek at the solution\n",
    "q1.solution()"
   ]
  },
  {
   "cell_type": "markdown",
   "id": "f28d0975",
   "metadata": {
    "papermill": {
     "duration": 0.00448,
     "end_time": "2025-06-29T05:23:02.675174",
     "exception": false,
     "start_time": "2025-06-29T05:23:02.670694",
     "status": "completed"
    },
    "tags": []
   },
   "source": [
    "# 2.\n",
    "The help for `round` says that `ndigits` (the second argument) may be negative.\n",
    "What do you think will happen when it is? Try some examples in the following cell."
   ]
  },
  {
   "cell_type": "code",
   "execution_count": 4,
   "id": "e71be219",
   "metadata": {
    "execution": {
     "iopub.execute_input": "2025-06-29T05:23:02.686200Z",
     "iopub.status.busy": "2025-06-29T05:23:02.685807Z",
     "iopub.status.idle": "2025-06-29T05:23:02.691029Z",
     "shell.execute_reply": "2025-06-29T05:23:02.690063Z"
    },
    "papermill": {
     "duration": 0.012973,
     "end_time": "2025-06-29T05:23:02.692679",
     "exception": false,
     "start_time": "2025-06-29T05:23:02.679706",
     "status": "completed"
    },
    "tags": []
   },
   "outputs": [
    {
     "name": "stdout",
     "output_type": "stream",
     "text": [
      "10.0\n"
     ]
    }
   ],
   "source": [
    "# Put your test code here\n",
    "print(round(9.9999, 1))"
   ]
  },
  {
   "cell_type": "markdown",
   "id": "51948bbe",
   "metadata": {
    "papermill": {
     "duration": 0.004174,
     "end_time": "2025-06-29T05:23:02.701460",
     "exception": false,
     "start_time": "2025-06-29T05:23:02.697286",
     "status": "completed"
    },
    "tags": []
   },
   "source": [
    "Can you think of a case where this would be useful?  Once you're ready, run the code cell below to see the answer and to receive credit for completing the problem."
   ]
  },
  {
   "cell_type": "code",
   "execution_count": 5,
   "id": "2a2d4a6e",
   "metadata": {
    "execution": {
     "iopub.execute_input": "2025-06-29T05:23:02.711412Z",
     "iopub.status.busy": "2025-06-29T05:23:02.711054Z",
     "iopub.status.idle": "2025-06-29T05:23:02.718365Z",
     "shell.execute_reply": "2025-06-29T05:23:02.717289Z"
    },
    "papermill": {
     "duration": 0.014115,
     "end_time": "2025-06-29T05:23:02.719915",
     "exception": false,
     "start_time": "2025-06-29T05:23:02.705800",
     "status": "completed"
    },
    "tags": []
   },
   "outputs": [
    {
     "data": {
      "application/javascript": [
       "parent.postMessage({\"jupyterEvent\": \"custom.exercise_interaction\", \"data\": {\"interactionType\": 3, \"questionType\": 4, \"questionId\": \"2_RoundNdigitsProblem\", \"learnToolsVersion\": \"0.3.5\", \"valueTowardsCompletion\": 0.0, \"failureMessage\": \"\", \"exceptionClass\": \"\", \"trace\": \"\", \"outcomeType\": 4}}, \"*\")"
      ],
      "text/plain": [
       "<IPython.core.display.Javascript object>"
      ]
     },
     "metadata": {},
     "output_type": "display_data"
    },
    {
     "data": {
      "text/markdown": [
       "<span style=\"color:#33cc99\">Solution:</span> As you've seen, `ndigits=-1` rounds to the nearest 10, `ndigits=-2` rounds to the nearest 100 and so on. Where might this be useful? Suppose we're dealing with large numbers:\n",
       "\n",
       "> The area of Finland is 338,424 km²  \n",
       "> The area of Greenland is 2,166,086 km²\n",
       "\n",
       "We probably don't care whether it's really 338,424, or 338,425, or 338,177. All those digits of accuracy are just distracting. We can chop them off by calling `round()` with `ndigits=-3`:\n",
       "\n",
       "> The area of Finland is 338,000 km²  \n",
       "> The area of Greenland is 2,166,000 km²\n",
       "\n",
       "(We'll talk about how we would get the commas later when we talk about string formatting :))\n"
      ],
      "text/plain": [
       "Solution: As you've seen, `ndigits=-1` rounds to the nearest 10, `ndigits=-2` rounds to the nearest 100 and so on. Where might this be useful? Suppose we're dealing with large numbers:\n",
       "\n",
       "> The area of Finland is 338,424 km²  \n",
       "> The area of Greenland is 2,166,086 km²\n",
       "\n",
       "We probably don't care whether it's really 338,424, or 338,425, or 338,177. All those digits of accuracy are just distracting. We can chop them off by calling `round()` with `ndigits=-3`:\n",
       "\n",
       "> The area of Finland is 338,000 km²  \n",
       "> The area of Greenland is 2,166,000 km²\n",
       "\n",
       "(We'll talk about how we would get the commas later when we talk about string formatting :))"
      ]
     },
     "metadata": {},
     "output_type": "display_data"
    }
   ],
   "source": [
    "# Check your answer (Run this code cell to receive credit!)\n",
    "q2.solution()"
   ]
  },
  {
   "cell_type": "markdown",
   "id": "c9ab7f3a",
   "metadata": {
    "papermill": {
     "duration": 0.004312,
     "end_time": "2025-06-29T05:23:02.728990",
     "exception": false,
     "start_time": "2025-06-29T05:23:02.724678",
     "status": "completed"
    },
    "tags": []
   },
   "source": [
    "# 3.\n",
    "\n",
    "In the previous exercise, the candy-sharing friends Alice, Bob and Carol tried to split candies evenly. For the sake of their friendship, any candies left over would be smashed. For example, if they collectively bring home 91 candies, they'll take 30 each and smash 1.\n",
    "\n",
    "Below is a simple function that will calculate the number of candies to smash for *any* number of total candies.\n",
    "\n",
    "Modify it so that it optionally takes a second argument representing the number of friends the candies are being split between. If no second argument is provided, it should assume 3 friends, as before.\n",
    "\n",
    "Update the docstring to reflect this new behaviour."
   ]
  },
  {
   "cell_type": "code",
   "execution_count": 6,
   "id": "f8b7bab4",
   "metadata": {
    "execution": {
     "iopub.execute_input": "2025-06-29T05:23:02.740039Z",
     "iopub.status.busy": "2025-06-29T05:23:02.739701Z",
     "iopub.status.idle": "2025-06-29T05:23:02.747492Z",
     "shell.execute_reply": "2025-06-29T05:23:02.746571Z"
    },
    "papermill": {
     "duration": 0.015535,
     "end_time": "2025-06-29T05:23:02.749082",
     "exception": false,
     "start_time": "2025-06-29T05:23:02.733547",
     "status": "completed"
    },
    "tags": []
   },
   "outputs": [
    {
     "data": {
      "application/javascript": [
       "parent.postMessage({\"jupyterEvent\": \"custom.exercise_interaction\", \"data\": {\"outcomeType\": 1, \"valueTowardsCompletion\": 0.16666666666666666, \"interactionType\": 1, \"questionType\": 2, \"questionId\": \"3_CandySmashingFunctionProblem\", \"learnToolsVersion\": \"0.3.5\", \"failureMessage\": \"\", \"exceptionClass\": \"\", \"trace\": \"\"}}, \"*\")"
      ],
      "text/plain": [
       "<IPython.core.display.Javascript object>"
      ]
     },
     "metadata": {},
     "output_type": "display_data"
    },
    {
     "data": {
      "text/markdown": [
       "<span style=\"color:#33cc33\">Correct</span>"
      ],
      "text/plain": [
       "Correct"
      ]
     },
     "metadata": {},
     "output_type": "display_data"
    }
   ],
   "source": [
    "def to_smash(total_candies , number_of_friends = 3):\n",
    "    \"\"\"Return the number of leftover candies that must be smashed after distributing\n",
    "    the given number of candies evenly between 3 friends.\n",
    "    \n",
    "    >>> to_smash(91)\n",
    "    1\n",
    "    \"\"\"\n",
    "    return total_candies % number_of_friends\n",
    "\n",
    "# Check your answer\n",
    "q3.check()"
   ]
  },
  {
   "cell_type": "code",
   "execution_count": 7,
   "id": "204c86c6",
   "metadata": {
    "execution": {
     "iopub.execute_input": "2025-06-29T05:23:02.760741Z",
     "iopub.status.busy": "2025-06-29T05:23:02.760440Z",
     "iopub.status.idle": "2025-06-29T05:23:02.768098Z",
     "shell.execute_reply": "2025-06-29T05:23:02.767209Z"
    },
    "papermill": {
     "duration": 0.014929,
     "end_time": "2025-06-29T05:23:02.769526",
     "exception": false,
     "start_time": "2025-06-29T05:23:02.754597",
     "status": "completed"
    },
    "tags": []
   },
   "outputs": [
    {
     "data": {
      "application/javascript": [
       "parent.postMessage({\"jupyterEvent\": \"custom.exercise_interaction\", \"data\": {\"interactionType\": 2, \"questionType\": 2, \"questionId\": \"3_CandySmashingFunctionProblem\", \"learnToolsVersion\": \"0.3.5\", \"valueTowardsCompletion\": 0.0, \"failureMessage\": \"\", \"exceptionClass\": \"\", \"trace\": \"\", \"outcomeType\": 4}}, \"*\")"
      ],
      "text/plain": [
       "<IPython.core.display.Javascript object>"
      ]
     },
     "metadata": {},
     "output_type": "display_data"
    },
    {
     "data": {
      "text/markdown": [
       "<span style=\"color:#3366cc\">Hint:</span> Refer to the section of the last tutorial notebook where we talked about default arguments"
      ],
      "text/plain": [
       "Hint: Refer to the section of the last tutorial notebook where we talked about default arguments"
      ]
     },
     "metadata": {},
     "output_type": "display_data"
    }
   ],
   "source": [
    "q3.hint()"
   ]
  },
  {
   "cell_type": "code",
   "execution_count": 8,
   "id": "40bc6181",
   "metadata": {
    "execution": {
     "iopub.execute_input": "2025-06-29T05:23:02.780954Z",
     "iopub.status.busy": "2025-06-29T05:23:02.780650Z",
     "iopub.status.idle": "2025-06-29T05:23:02.788130Z",
     "shell.execute_reply": "2025-06-29T05:23:02.787318Z"
    },
    "papermill": {
     "duration": 0.01503,
     "end_time": "2025-06-29T05:23:02.789629",
     "exception": false,
     "start_time": "2025-06-29T05:23:02.774599",
     "status": "completed"
    },
    "tags": []
   },
   "outputs": [
    {
     "data": {
      "application/javascript": [
       "parent.postMessage({\"jupyterEvent\": \"custom.exercise_interaction\", \"data\": {\"interactionType\": 3, \"questionType\": 2, \"questionId\": \"3_CandySmashingFunctionProblem\", \"learnToolsVersion\": \"0.3.5\", \"valueTowardsCompletion\": 0.0, \"failureMessage\": \"\", \"exceptionClass\": \"\", \"trace\": \"\", \"outcomeType\": 4}}, \"*\")"
      ],
      "text/plain": [
       "<IPython.core.display.Javascript object>"
      ]
     },
     "metadata": {},
     "output_type": "display_data"
    },
    {
     "data": {
      "text/markdown": [
       "<span style=\"color:#33cc99\">Solution:</span> \n",
       "```python\n",
       "def to_smash(total_candies, n_friends=3):\n",
       "    return total_candies % n_friends\n",
       "```"
      ],
      "text/plain": [
       "Solution: \n",
       "```python\n",
       "def to_smash(total_candies, n_friends=3):\n",
       "    return total_candies % n_friends\n",
       "```"
      ]
     },
     "metadata": {},
     "output_type": "display_data"
    }
   ],
   "source": [
    "q3.solution()"
   ]
  },
  {
   "cell_type": "markdown",
   "id": "21ce4dec",
   "metadata": {
    "papermill": {
     "duration": 0.005501,
     "end_time": "2025-06-29T05:23:02.800353",
     "exception": false,
     "start_time": "2025-06-29T05:23:02.794852",
     "status": "completed"
    },
    "tags": []
   },
   "source": [
    "# 4. (Optional)\n",
    "\n",
    "It may not be fun, but reading and understanding error messages will be an important part of your Python career.\n",
    "\n",
    "Each code cell below contains some commented buggy code. For each cell...\n",
    "\n",
    "1. Read the code and predict what you think will happen when it's run.\n",
    "2. Then uncomment the code and run it to see what happens. (**Tip**: In the kernel editor, you can highlight several lines and press `ctrl`+`/` to toggle commenting.)\n",
    "3. Fix the code (so that it accomplishes its intended purpose without throwing an exception)\n",
    "\n",
    "<!-- TODO: should this be autochecked? Delta is probably pretty small. -->"
   ]
  },
  {
   "cell_type": "code",
   "execution_count": 9,
   "id": "c6ee0ef2",
   "metadata": {
    "execution": {
     "iopub.execute_input": "2025-06-29T05:23:02.811889Z",
     "iopub.status.busy": "2025-06-29T05:23:02.811539Z",
     "iopub.status.idle": "2025-06-29T05:23:02.817814Z",
     "shell.execute_reply": "2025-06-29T05:23:02.816902Z"
    },
    "papermill": {
     "duration": 0.013965,
     "end_time": "2025-06-29T05:23:02.819442",
     "exception": false,
     "start_time": "2025-06-29T05:23:02.805477",
     "status": "completed"
    },
    "tags": []
   },
   "outputs": [
    {
     "data": {
      "text/plain": [
       "8.89"
      ]
     },
     "execution_count": 9,
     "metadata": {},
     "output_type": "execute_result"
    }
   ],
   "source": [
    "def ruound_to_two_places(num):\n",
    "    return round(num, 2)\n",
    "    \n",
    "ruound_to_two_places(8.8888)"
   ]
  },
  {
   "cell_type": "code",
   "execution_count": 10,
   "id": "8c989bbc",
   "metadata": {
    "execution": {
     "iopub.execute_input": "2025-06-29T05:23:02.832301Z",
     "iopub.status.busy": "2025-06-29T05:23:02.831925Z",
     "iopub.status.idle": "2025-06-29T05:23:02.838352Z",
     "shell.execute_reply": "2025-06-29T05:23:02.837061Z"
    },
    "papermill": {
     "duration": 0.014727,
     "end_time": "2025-06-29T05:23:02.840007",
     "exception": false,
     "start_time": "2025-06-29T05:23:02.825280",
     "status": "completed"
    },
    "tags": []
   },
   "outputs": [
    {
     "name": "stdout",
     "output_type": "stream",
     "text": [
      "5\n"
     ]
    }
   ],
   "source": [
    "x = -10\n",
    "y = 5\n",
    "# Which of the two variables above has the smallest absolute value?\n",
    "x = abs(x)\n",
    "y = abs(y)\n",
    "smallest_abs = min(x, y)\n",
    "print(smallest_abs)"
   ]
  },
  {
   "cell_type": "code",
   "execution_count": 11,
   "id": "31274b10",
   "metadata": {
    "execution": {
     "iopub.execute_input": "2025-06-29T05:23:02.853346Z",
     "iopub.status.busy": "2025-06-29T05:23:02.852366Z",
     "iopub.status.idle": "2025-06-29T05:23:02.858192Z",
     "shell.execute_reply": "2025-06-29T05:23:02.856935Z"
    },
    "papermill": {
     "duration": 0.014195,
     "end_time": "2025-06-29T05:23:02.859886",
     "exception": false,
     "start_time": "2025-06-29T05:23:02.845691",
     "status": "completed"
    },
    "tags": []
   },
   "outputs": [
    {
     "name": "stdout",
     "output_type": "stream",
     "text": [
      "5\n"
     ]
    }
   ],
   "source": [
    "def f(x):\n",
    "    y = abs(x)\n",
    "    return y\n",
    "\n",
    "print(f(5))"
   ]
  },
  {
   "cell_type": "markdown",
   "id": "c4cd40cc",
   "metadata": {
    "papermill": {
     "duration": 0.005092,
     "end_time": "2025-06-29T05:23:02.870572",
     "exception": false,
     "start_time": "2025-06-29T05:23:02.865480",
     "status": "completed"
    },
    "tags": []
   },
   "source": [
    "# Keep Going\n",
    "\n",
    "Nice job with the code. Next up, you'll learn about *conditionals*, which you'll need to **[write interesting programs](https://www.kaggle.com/colinmorris/booleans-and-conditionals)**. "
   ]
  },
  {
   "cell_type": "markdown",
   "id": "3d084704",
   "metadata": {
    "papermill": {
     "duration": 0.005126,
     "end_time": "2025-06-29T05:23:02.880899",
     "exception": false,
     "start_time": "2025-06-29T05:23:02.875773",
     "status": "completed"
    },
    "tags": []
   },
   "source": [
    "---\n",
    "\n",
    "\n",
    "\n",
    "\n",
    "*Have questions or comments? Visit the [course discussion forum](https://www.kaggle.com/learn/python/discussion) to chat with other learners.*"
   ]
  }
 ],
 "metadata": {
  "kaggle": {
   "accelerator": "none",
   "dataSources": [],
   "isGpuEnabled": false,
   "isInternetEnabled": false,
   "language": "python",
   "sourceType": "notebook"
  },
  "kernelspec": {
   "display_name": "Python 3",
   "language": "python",
   "name": "python3"
  },
  "language_info": {
   "codemirror_mode": {
    "name": "ipython",
    "version": 3
   },
   "file_extension": ".py",
   "mimetype": "text/x-python",
   "name": "python",
   "nbconvert_exporter": "python",
   "pygments_lexer": "ipython3",
   "version": "3.11.11"
  },
  "learntools_metadata": {
   "lesson_index": 1,
   "type": "exercise"
  },
  "papermill": {
   "default_parameters": {},
   "duration": 7.995278,
   "end_time": "2025-06-29T05:23:03.406361",
   "environment_variables": {},
   "exception": null,
   "input_path": "__notebook__.ipynb",
   "output_path": "__notebook__.ipynb",
   "parameters": {},
   "start_time": "2025-06-29T05:22:55.411083",
   "version": "2.6.0"
  }
 },
 "nbformat": 4,
 "nbformat_minor": 5
}
